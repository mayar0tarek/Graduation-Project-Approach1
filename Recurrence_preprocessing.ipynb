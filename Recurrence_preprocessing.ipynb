{
  "metadata": {
    "kernelspec": {
      "language": "python",
      "display_name": "Python 3",
      "name": "python3"
    },
    "language_info": {
      "name": "python",
      "version": "3.7.6",
      "mimetype": "text/x-python",
      "codemirror_mode": {
        "name": "ipython",
        "version": 3
      },
      "pygments_lexer": "ipython3",
      "nbconvert_exporter": "python",
      "file_extension": ".py"
    },
    "colab": {
      "provenance": []
    },
    "kaggle": {
      "accelerator": "none",
      "dataSources": [
        {
          "sourceId": 1775266,
          "sourceType": "datasetVersion",
          "datasetId": 1055403
        },
        {
          "sourceId": 6740654,
          "sourceType": "datasetVersion",
          "datasetId": 3881760
        },
        {
          "sourceId": 7257459,
          "sourceType": "datasetVersion",
          "datasetId": 4205658
        },
        {
          "sourceId": 7442178,
          "sourceType": "datasetVersion",
          "datasetId": 4331716
        }
      ],
      "dockerImageVersionId": 30042,
      "isInternetEnabled": false,
      "language": "python",
      "sourceType": "notebook",
      "isGpuEnabled": false
    }
  },
  "nbformat_minor": 0,
  "nbformat": 4,
  "cells": [
    {
      "cell_type": "markdown",
      "source": [
        "# **Dataset 1: Metabric breast cancer**"
      ],
      "metadata": {
        "id": "ZgJ0oIsKpEca"
      }
    },
    {
      "cell_type": "code",
      "source": [
        "pip install pandas"
      ],
      "metadata": {
        "id": "davZPo7kpEcd",
        "execution": {
          "iopub.status.busy": "2023-12-22T11:14:00.042171Z",
          "iopub.execute_input": "2023-12-22T11:14:00.042858Z",
          "iopub.status.idle": "2023-12-22T11:14:30.481203Z",
          "shell.execute_reply.started": "2023-12-22T11:14:00.042804Z",
          "shell.execute_reply": "2023-12-22T11:14:30.479747Z"
        },
        "trusted": true
      },
      "execution_count": null,
      "outputs": []
    },
    {
      "cell_type": "code",
      "source": [
        "import warnings\n",
        "warnings.filterwarnings('ignore')\n",
        "\n",
        "import numpy as np\n",
        "import pandas as pd\n",
        "pd.set_option('display.max_rows', 500)\n",
        "pd.set_option('display.max_columns', 500)\n",
        "pd.set_option('display.width', 1000)\n",
        "\n",
        "from scipy.stats import mode\n",
        "from sklearn.preprocessing import LabelEncoder\n",
        "from sklearn.model_selection import train_test_split, StratifiedKFold\n",
        "from sklearn.metrics import roc_auc_score\n",
        "\n",
        "import matplotlib.pyplot as plt\n",
        "import seaborn as sns"
      ],
      "metadata": {
        "_uuid": "8f2839f25d086af736a60e9eeb907d3b93b6e0e5",
        "_cell_guid": "b1076dfc-b9ad-4769-8c92-a6c4dae69d19",
        "_kg_hide-input": true,
        "id": "xeV9Gny9pEcf",
        "execution": {
          "iopub.status.busy": "2023-12-22T16:22:14.888751Z",
          "iopub.execute_input": "2023-12-22T16:22:14.889519Z",
          "iopub.status.idle": "2023-12-22T16:22:16.288859Z",
          "shell.execute_reply.started": "2023-12-22T16:22:14.889472Z",
          "shell.execute_reply": "2023-12-22T16:22:16.287757Z"
        },
        "trusted": true
      },
      "execution_count": null,
      "outputs": []
    },
    {
      "cell_type": "markdown",
      "source": [
        "## **Load Dataset**"
      ],
      "metadata": {
        "id": "CM-731zRpEcg"
      }
    },
    {
      "cell_type": "code",
      "source": [
        "df_metabric = pd.read_csv('../input/breast-cancer-metabric/Breast Cancer METABRIC.csv')\n",
        "df_metabric.head()"
      ],
      "metadata": {
        "id": "bdiLEt5CpEch",
        "execution": {
          "iopub.status.busy": "2023-12-22T16:22:16.808796Z",
          "iopub.execute_input": "2023-12-22T16:22:16.809259Z",
          "iopub.status.idle": "2023-12-22T16:22:16.927899Z",
          "shell.execute_reply.started": "2023-12-22T16:22:16.809219Z",
          "shell.execute_reply": "2023-12-22T16:22:16.926772Z"
        },
        "trusted": true
      },
      "execution_count": null,
      "outputs": []
    },
    {
      "cell_type": "markdown",
      "source": [
        "### **Shape and Column Data Types**"
      ],
      "metadata": {
        "id": "B_cvzYLHpEch"
      }
    },
    {
      "cell_type": "code",
      "source": [
        "df_metabric.shape"
      ],
      "metadata": {
        "id": "Ox5yXzzOpEci",
        "execution": {
          "iopub.status.busy": "2023-12-22T16:22:19.426221Z",
          "iopub.execute_input": "2023-12-22T16:22:19.426845Z",
          "iopub.status.idle": "2023-12-22T16:22:19.435127Z",
          "shell.execute_reply.started": "2023-12-22T16:22:19.426799Z",
          "shell.execute_reply": "2023-12-22T16:22:19.433475Z"
        },
        "trusted": true
      },
      "execution_count": null,
      "outputs": []
    },
    {
      "cell_type": "markdown",
      "source": [
        "---\n",
        "\n",
        "\n",
        "## **1.Handle missing values**\n",
        "\n",
        "\n",
        "*   Check the missing values in the selected columns:\n",
        "\n"
      ],
      "metadata": {
        "id": "d4vtTy28pEci"
      }
    },
    {
      "cell_type": "code",
      "source": [
        "columns = ['Inferred Menopausal State','Tumor Size','Lymph nodes examined positive',\n",
        "           'Neoplasm Histologic Grade','Pam50 + Claudin-low subtype', 'Cancer Type Detailed',\n",
        "           'ER Status', 'PR Status', 'HER2 Status', 'Chemotherapy', 'Radio Therapy',\n",
        "           'Type of Breast Surgery', 'Primary Tumor Laterality', 'Overall Survival Status',\n",
        "           'Overall Survival (Months)', 'Relapse Free Status (Months)','Relapse Free Status' ]\n",
        "\n",
        "missing_counts = df_metabric[columns].isnull().sum()\n",
        "missing_columns = missing_counts[missing_counts > 0].index.tolist()\n",
        "\n",
        "print(\"Columns with missing values:\")\n",
        "for column in missing_columns:\n",
        "    print(f\"{column}: {missing_counts[column]} missing values\")"
      ],
      "metadata": {
        "_kg_hide-input": true,
        "id": "IXEB118UpEci",
        "execution": {
          "iopub.status.busy": "2023-12-22T16:22:20.839655Z",
          "iopub.execute_input": "2023-12-22T16:22:20.840119Z",
          "iopub.status.idle": "2023-12-22T16:22:20.887683Z",
          "shell.execute_reply.started": "2023-12-22T16:22:20.840082Z",
          "shell.execute_reply": "2023-12-22T16:22:20.886699Z"
        },
        "trusted": true
      },
      "execution_count": null,
      "outputs": []
    },
    {
      "cell_type": "code",
      "source": [
        "# Select only the specified columns from the DataFrame\n",
        "selected_data = df_metabric[columns]\n",
        "\n",
        "# Create a bar plot for missing values in the selected columns\n",
        "fig = plt.figure(figsize=(12, 8))\n",
        "sns.barplot(x=selected_data.isnull().sum().sort_values(ascending=False).values,\n",
        "            y=selected_data.isnull().sum().sort_values(ascending=False).index,\n",
        "            palette='Blues_d')\n",
        "\n",
        "plt.xlabel('Number of Missing Rows', size=12, labelpad=10)\n",
        "plt.ylabel('')\n",
        "plt.tick_params(axis='x', labelsize=10)\n",
        "plt.tick_params(axis='y', labelsize=10)\n",
        "plt.title('Missing Values in Selected Columns', size=12, pad=10)\n",
        "\n",
        "plt.show()\n"
      ],
      "metadata": {
        "id": "l0mCflFFpEcj",
        "execution": {
          "iopub.status.busy": "2023-12-22T16:22:21.515547Z",
          "iopub.execute_input": "2023-12-22T16:22:21.516227Z",
          "iopub.status.idle": "2023-12-22T16:22:21.921382Z",
          "shell.execute_reply.started": "2023-12-22T16:22:21.516183Z",
          "shell.execute_reply": "2023-12-22T16:22:21.919993Z"
        },
        "trusted": true
      },
      "execution_count": null,
      "outputs": []
    },
    {
      "cell_type": "markdown",
      "source": [
        "\n",
        "\n",
        "---\n",
        "\n",
        "\n",
        "- Handle the missing values:\n"
      ],
      "metadata": {
        "id": "nRUNTe1rpEcj"
      }
    },
    {
      "cell_type": "code",
      "source": [
        "# Event and duration columns\n",
        "df_metabric['Relapse Free Status'] = df_metabric.groupby(['Cancer Type Detailed'])['Relapse Free Status'].apply(lambda x: x.fillna(mode(x)[0][0]))\n",
        "df_metabric['Relapse Free Status (Months)'] = df_metabric.groupby(['Cancer Type Detailed', 'Relapse Free Status'])['Relapse Free Status (Months)'].apply(lambda x: x.fillna(x.mean()))\n",
        "df_metabric['Overall Survival Status'] = df_metabric.groupby(['Cancer Type Detailed', 'Relapse Free Status'])['Overall Survival Status'].apply(lambda x: x.fillna(mode(x)[0][0]))\n",
        "df_metabric['Overall Survival (Months)'] = df_metabric.groupby(['Cancer Type Detailed', 'Overall Survival Status'])['Overall Survival (Months)'].apply(lambda x: x.fillna(x.mean()))\n",
        "\n",
        "# ER, PR, HER2 status columns\n",
        "df_metabric['ER status measured by IHC'] = df_metabric['ER status measured by IHC'].fillna(mode(df_metabric['ER status measured by IHC'])[0][0])\n",
        "df_metabric['ER Status'] = df_metabric.groupby(['ER status measured by IHC'])['ER Status'].apply(lambda x: x.fillna(mode(x)[0][0]))\n",
        "df_metabric['HER2 status measured by SNP6'] = df_metabric['HER2 status measured by SNP6'].fillna(mode(df_metabric['HER2 status measured by SNP6'])[0][0])\n",
        "df_metabric['HER2 Status'] = df_metabric.groupby(['HER2 status measured by SNP6'])['HER2 Status'].apply(lambda x: x.fillna(mode(x)[0][0]))\n",
        "df_metabric['PR Status'] = df_metabric.groupby(['Cancer Type Detailed'])['PR Status'].apply(lambda x: x.fillna(mode(x)[0][0]))\n",
        "\n",
        "# Chemotherapy, Hormone Therapy, Radio Therapy columns\n",
        "df_metabric['Chemotherapy'] = df_metabric.groupby(['Cancer Type Detailed'])['Chemotherapy'].apply(lambda x: x.fillna(mode(x)[0][0]))\n",
        "df_metabric['Radio Therapy'] = df_metabric.groupby(['Cancer Type Detailed'])['Radio Therapy'].apply(lambda x: x.fillna(mode(x)[0][0]))\n",
        "\n",
        "# Other columns\n",
        "df_metabric['Tumor Size'] = df_metabric.groupby(['Cancer Type Detailed', 'Tumor Stage'])['Tumor Size'].apply(lambda x: x.fillna(x.median()))\n",
        "df_metabric['Tumor Size'] = df_metabric.groupby(['Cancer Type Detailed'])['Tumor Size'].apply(lambda x: x.fillna(x.median()))\n",
        "df_metabric['Tumor Size'] = df_metabric['Tumor Size'].fillna(mode(df_metabric['Tumor Size'])[0][0])\n",
        "df_metabric['Neoplasm Histologic Grade'] = df_metabric.groupby(['Cancer Type Detailed'])['Neoplasm Histologic Grade'].apply(lambda x: x.fillna(x.mode()))\n",
        "df_metabric['Neoplasm Histologic Grade'] = df_metabric['Neoplasm Histologic Grade'].fillna(mode(df_metabric['Neoplasm Histologic Grade'])[0][0])\n",
        "df_metabric['Primary Tumor Laterality'] = df_metabric.groupby(['Cancer Type Detailed'])['Primary Tumor Laterality'].apply(lambda x: x.fillna(x.mode()))\n",
        "df_metabric['Lymph nodes examined positive'] = df_metabric.groupby(['Cancer Type Detailed'])['Lymph nodes examined positive'].apply(lambda x: x.fillna(x.mode()))\n",
        "df_metabric['Lymph nodes examined positive'] = df_metabric['Lymph nodes examined positive'].fillna(mode(df_metabric['Lymph nodes examined positive'])[0][0])\n",
        "df_metabric['Inferred Menopausal State'] = df_metabric['Inferred Menopausal State'].fillna(mode(df_metabric['Inferred Menopausal State'])[0][0])\n",
        "df_metabric['Pam50 + Claudin-low subtype'] = df_metabric.groupby(['Cancer Type Detailed'])['Pam50 + Claudin-low subtype'].apply(lambda x: x.fillna(mode(x)[0][0]))\n",
        "df_metabric['Type of Breast Surgery'] = df_metabric.groupby(['Cancer Type Detailed'])['Type of Breast Surgery'].apply(lambda x: x.fillna(mode(x)[0][0]))\n",
        "df_metabric['Primary Tumor Laterality'] = df_metabric.groupby(['Cancer Type Detailed'])['Primary Tumor Laterality'].apply(lambda x: x.fillna(mode(x)[0][0]))\n"
      ],
      "metadata": {
        "id": "oJwgPktzpEck",
        "execution": {
          "iopub.status.busy": "2023-12-22T16:22:23.485772Z",
          "iopub.execute_input": "2023-12-22T16:22:23.486255Z",
          "iopub.status.idle": "2023-12-22T16:22:23.697987Z",
          "shell.execute_reply.started": "2023-12-22T16:22:23.486217Z",
          "shell.execute_reply": "2023-12-22T16:22:23.696844Z"
        },
        "trusted": true
      },
      "execution_count": null,
      "outputs": []
    },
    {
      "cell_type": "code",
      "source": [
        "# Select only the specified columns from the DataFrame\n",
        "selected_data = df_metabric[columns]\n",
        "\n",
        "# Create a bar plot for missing values in the selected columns\n",
        "fig = plt.figure(figsize=(12, 8))\n",
        "sns.barplot(x=selected_data.isnull().sum().sort_values(ascending=False).values,\n",
        "            y=selected_data.isnull().sum().sort_values(ascending=False).index,\n",
        "            palette='Reds_d')\n",
        "\n",
        "plt.xlabel('Number of Missing Rows', size=12, labelpad=10)\n",
        "plt.ylabel('')\n",
        "plt.tick_params(axis='x', labelsize=10)\n",
        "plt.tick_params(axis='y', labelsize=10)\n",
        "plt.title('Missing Values in Selected Columns', size=12, pad=10)\n",
        "\n",
        "plt.show()"
      ],
      "metadata": {
        "id": "n3kJV1bypEck",
        "execution": {
          "iopub.status.busy": "2023-12-22T16:22:24.342295Z",
          "iopub.execute_input": "2023-12-22T16:22:24.342848Z",
          "iopub.status.idle": "2023-12-22T16:22:24.685988Z",
          "shell.execute_reply.started": "2023-12-22T16:22:24.342800Z",
          "shell.execute_reply": "2023-12-22T16:22:24.684590Z"
        },
        "trusted": true
      },
      "execution_count": null,
      "outputs": []
    },
    {
      "cell_type": "markdown",
      "source": [
        "---\n",
        "## **2. Select and Rename the columns**"
      ],
      "metadata": {
        "id": "gHxDoeSNpEcl"
      }
    },
    {
      "cell_type": "code",
      "source": [
        "# Dataset 1\n",
        "\n",
        "selected_columns_1 = df_metabric[['Patient ID',\n",
        "                         'Inferred Menopausal State',\n",
        "                         'Tumor Size',\n",
        "                         'Lymph nodes examined positive',\n",
        "                         'Neoplasm Histologic Grade',\n",
        "                         'Pam50 + Claudin-low subtype',\n",
        "                         'Cancer Type Detailed',\n",
        "                         'ER Status',\n",
        "                         'PR Status',\n",
        "                         'HER2 Status',\n",
        "                         'Chemotherapy',\n",
        "                         'Radio Therapy',\n",
        "                         'Type of Breast Surgery',\n",
        "                         'Primary Tumor Laterality',\n",
        "                         'Overall Survival (Months)',\n",
        "                         'Overall Survival Status',\n",
        "                         'Relapse Free Status (Months)',\n",
        "                         'Relapse Free Status'\n",
        "                         ]]\n",
        "\n",
        "# Select & Rename\n",
        "selected_columns_1 = selected_columns_1.rename(columns={\n",
        "    'Patient ID': 'Patient ID',\n",
        "    'Inferred Menopausal State': 'Menopausal Status',\n",
        "    'Tumor Size': 'Tumor Size',\n",
        "    'Lymph nodes examined positive': 'Lymph Node Status',\n",
        "    'Neoplasm Histologic Grade': 'Tumor Grade',\n",
        "    'Pam50 + Claudin-low subtype': 'Mol Subtype',\n",
        "    'Cancer Type Detailed': 'Histological Type',\n",
        "    'ER Status': 'ER',\n",
        "    'PR Status': 'PR',\n",
        "    'HER2 Status': 'HER2',\n",
        "    'Chemotherapy': 'Chemotherapy',\n",
        "    'Radio Therapy': 'Radiotherapy',\n",
        "    'Type of Breast Surgery': 'Type of Surgery',\n",
        "    'Primary Tumor Laterality': 'Tumor Location',\n",
        "    'Overall Survival (Months)': 'Overall Survival Status (Month)',\n",
        "    'Overall Survival Status': 'Overall Survival Status',\n",
        "    'Relapse Free Status (Months)': 'Recurrence Free Status (Month)',\n",
        "    'Relapse Free Status': 'Recurrence Free Status'\n",
        "    })\n",
        "\n",
        "\n",
        "# Put columns in new excel\n",
        "selected_columns_1.to_excel('Dataset_1.xlsx', index=False)"
      ],
      "metadata": {
        "id": "PaawdiwBpEcl",
        "execution": {
          "iopub.status.busy": "2023-12-22T16:22:27.705694Z",
          "iopub.execute_input": "2023-12-22T16:22:27.706222Z",
          "iopub.status.idle": "2023-12-22T16:22:29.159026Z",
          "shell.execute_reply.started": "2023-12-22T16:22:27.706172Z",
          "shell.execute_reply": "2023-12-22T16:22:29.157404Z"
        },
        "trusted": true
      },
      "execution_count": null,
      "outputs": []
    },
    {
      "cell_type": "markdown",
      "source": [
        "\n",
        "\n",
        "---\n",
        "\n",
        "\n",
        "\n",
        "---\n",
        "## **3. Normalization**\n",
        "Normalize or scale the numerical values with wide range.\n",
        "\n",
        "*   Tumor size\n",
        "*   Lymph node\n",
        "\n",
        "\n",
        "\n",
        "\n",
        "\n"
      ],
      "metadata": {
        "id": "BRUZo7fJpEcm"
      }
    },
    {
      "cell_type": "markdown",
      "source": [
        "\n",
        "\n",
        "---\n",
        "\n",
        "\n",
        "\n",
        "*   Before normalization\n",
        "\n"
      ],
      "metadata": {
        "id": "wMAnFJRKpEcm"
      }
    },
    {
      "cell_type": "code",
      "source": [
        "Data1 = pd.read_excel('Dataset_1.xlsx')\n",
        "Data1.boxplot(column = ['Tumor Size'], fontsize = 15, figsize=(3,3))"
      ],
      "metadata": {
        "id": "LgKtnPl1pEcm",
        "execution": {
          "iopub.status.busy": "2023-12-22T16:22:30.488519Z",
          "iopub.execute_input": "2023-12-22T16:22:30.489300Z",
          "iopub.status.idle": "2023-12-22T16:22:32.409422Z",
          "shell.execute_reply.started": "2023-12-22T16:22:30.489223Z",
          "shell.execute_reply": "2023-12-22T16:22:32.408279Z"
        },
        "trusted": true
      },
      "execution_count": null,
      "outputs": []
    },
    {
      "cell_type": "code",
      "source": [
        "Data1.boxplot(column = ['Lymph Node Status'], fontsize = 15, figsize=(3,3))"
      ],
      "metadata": {
        "id": "0BEAqMarpEcm",
        "execution": {
          "iopub.status.busy": "2023-12-22T16:22:35.362875Z",
          "iopub.execute_input": "2023-12-22T16:22:35.363341Z",
          "iopub.status.idle": "2023-12-22T16:22:35.542138Z",
          "shell.execute_reply.started": "2023-12-22T16:22:35.363300Z",
          "shell.execute_reply": "2023-12-22T16:22:35.540728Z"
        },
        "trusted": true
      },
      "execution_count": null,
      "outputs": []
    },
    {
      "cell_type": "code",
      "source": [
        "# Scale the Tumor size\n",
        "\n",
        "def update_tumor_size(value):\n",
        "    if value <= 2:\n",
        "        return 1\n",
        "    elif value > 2 and value <= 4:\n",
        "        return 2\n",
        "    elif value > 4 and value <= 6:\n",
        "        return 3\n",
        "    else:\n",
        "        return 4\n",
        "\n",
        "Data1['Tumor Size'] = Data1['Tumor Size'].apply(update_tumor_size)\n",
        "\n",
        "\n",
        "# Scale the lymph node status\n",
        "def update_lymph_node_status(value):\n",
        "    if pd.isnull(value):  # Check if the value is empty\n",
        "        return -1\n",
        "    elif value == 0:\n",
        "        return 0\n",
        "    elif value >= 1 and value <= 3:\n",
        "        return 1\n",
        "    elif value >= 4 and value <= 9:\n",
        "        return 2\n",
        "    else:\n",
        "        return 3\n",
        "\n",
        "Data1['Lymph Node Status'] = Data1['Lymph Node Status'].apply(update_lymph_node_status)\n"
      ],
      "metadata": {
        "id": "TP0LEPRSpEcn",
        "execution": {
          "iopub.status.busy": "2023-12-22T16:22:38.157021Z",
          "iopub.execute_input": "2023-12-22T16:22:38.157817Z",
          "iopub.status.idle": "2023-12-22T16:22:38.181374Z",
          "shell.execute_reply.started": "2023-12-22T16:22:38.157750Z",
          "shell.execute_reply": "2023-12-22T16:22:38.179663Z"
        },
        "trusted": true
      },
      "execution_count": null,
      "outputs": []
    },
    {
      "cell_type": "code",
      "source": [
        "Data1.to_excel('Dataset_1.xlsx', index=False)"
      ],
      "metadata": {
        "id": "g7wc1tk5pEcn",
        "execution": {
          "iopub.status.busy": "2023-12-22T16:22:39.783604Z",
          "iopub.execute_input": "2023-12-22T16:22:39.784309Z",
          "iopub.status.idle": "2023-12-22T16:22:41.153366Z",
          "shell.execute_reply.started": "2023-12-22T16:22:39.784260Z",
          "shell.execute_reply": "2023-12-22T16:22:41.152005Z"
        },
        "trusted": true
      },
      "execution_count": null,
      "outputs": []
    },
    {
      "cell_type": "code",
      "source": [
        "Data1"
      ],
      "metadata": {
        "execution": {
          "iopub.status.busy": "2023-12-22T16:22:42.621103Z",
          "iopub.execute_input": "2023-12-22T16:22:42.621607Z",
          "iopub.status.idle": "2023-12-22T16:22:42.670718Z",
          "shell.execute_reply.started": "2023-12-22T16:22:42.621557Z",
          "shell.execute_reply": "2023-12-22T16:22:42.669720Z"
        },
        "trusted": true,
        "id": "WuWXo7tdVOLH"
      },
      "execution_count": null,
      "outputs": []
    },
    {
      "cell_type": "markdown",
      "source": [
        "---\n",
        "---\n",
        "---"
      ],
      "metadata": {
        "id": "Z3FopiawpEco"
      }
    },
    {
      "cell_type": "markdown",
      "source": [
        "# **Dataset2: Duke university**"
      ],
      "metadata": {
        "id": "775L-Q1OVOLI"
      }
    },
    {
      "cell_type": "code",
      "source": [
        "Data2= pd.read_excel('/kaggle/input/dataset-duke-university/Clinical_and_Other_Features_Final.xlsx')\n",
        "Data2.head()"
      ],
      "metadata": {
        "execution": {
          "iopub.status.busy": "2023-12-22T16:22:48.893636Z",
          "iopub.execute_input": "2023-12-22T16:22:48.894398Z",
          "iopub.status.idle": "2023-12-22T16:22:50.896121Z",
          "shell.execute_reply.started": "2023-12-22T16:22:48.894348Z",
          "shell.execute_reply": "2023-12-22T16:22:50.894973Z"
        },
        "trusted": true,
        "id": "_DvkaBXaVOLI"
      },
      "execution_count": null,
      "outputs": []
    },
    {
      "cell_type": "markdown",
      "source": [
        "### **Shape and Column Data Types**"
      ],
      "metadata": {
        "id": "yvdO0DRNVOLI"
      }
    },
    {
      "cell_type": "code",
      "source": [
        "Data2.shape"
      ],
      "metadata": {
        "execution": {
          "iopub.status.busy": "2023-12-22T16:23:03.528629Z",
          "iopub.execute_input": "2023-12-22T16:23:03.529416Z",
          "iopub.status.idle": "2023-12-22T16:23:03.536079Z",
          "shell.execute_reply.started": "2023-12-22T16:23:03.529366Z",
          "shell.execute_reply": "2023-12-22T16:23:03.535079Z"
        },
        "trusted": true,
        "id": "wT9XRV6NVOLI"
      },
      "execution_count": null,
      "outputs": []
    },
    {
      "cell_type": "markdown",
      "source": [
        "###    **Get the desired** **columns**"
      ],
      "metadata": {
        "id": "Pn6WLDBNVOLJ"
      }
    },
    {
      "cell_type": "code",
      "source": [
        "#Dataset_2\n",
        "\n",
        "selected_columns_2 = Data2[[\n",
        "    'Patient ID',\n",
        "    'Menopause (at diagnosis)',\n",
        "    'Staging(Tumor Size)# [T]',\n",
        "    'Staging(Nodes)#(Nx replaced by -1)[N]',\n",
        "    'Nottingham grade',\n",
        "    'Mol Subtype',\n",
        "    'Histologic type',\n",
        "    'ER',\n",
        "    'PR',\n",
        "    'HER2',\n",
        "    'Chemo Therapy',\n",
        "    'Radio Therapy',\n",
        "    'Definitive Surgery Type',\n",
        "    'Tumor Location',\n",
        "    'Days to death (from the date of diagnosis) ',\n",
        "    'Overall Survival Status',\n",
        "    'Days to local recurrence (from the date of diagnosis) ',\n",
        "    'Recurrence event(s)'\n",
        "\n",
        "\n",
        "\n",
        "  ]]\n",
        "\n",
        "# Select & Rename\n",
        "selected_columns_2 = selected_columns_2.rename(columns={\n",
        "    'Patient ID': 'Patient ID',\n",
        "    'Menopause (at diagnosis)': 'Menopausal Status',\n",
        "    'Staging(Tumor Size)# [T]': 'Tumor Size',\n",
        "    'Staging(Nodes)#(Nx replaced by -1)[N]': 'Lymph Node Status',\n",
        "    'Nottingham grade': 'Tumor Grade',\n",
        "    'Mol Subtype': 'Mol Subtype',\n",
        "    'Histologic type': 'Histological Type',\n",
        "    'ER': 'ER',\n",
        "    'PR': 'PR',\n",
        "    'HER2': 'HER2',\n",
        "    'Chemo Therapy': 'Chemotherapy',\n",
        "    'Radio Therapy': 'Radiotherapy',\n",
        "    'Definitive Surgery Type': 'Type of Surgery',\n",
        "    'Tumor Location': 'Tumor Location',\n",
        "    'Days to death (from the date of diagnosis) ': 'Overall Survival Status (Month)',\n",
        "    'Overall Survival Status': 'Overall Survival Status',\n",
        "    'Days to local recurrence (from the date of diagnosis) ': 'Recurrence Free Status (Month)',\n",
        "    'Recurrence event(s)': 'Recurrence Free Status'\n",
        "\n",
        "\n",
        "\n",
        "\n",
        "\n",
        "\n",
        "\n",
        "\n",
        "})\n",
        "\n",
        "\n",
        "# Put columns in new excel\n",
        "selected_columns_2.to_excel('Dataset_2.xlsx', index=False)\n"
      ],
      "metadata": {
        "execution": {
          "iopub.status.busy": "2023-12-22T16:23:05.866204Z",
          "iopub.execute_input": "2023-12-22T16:23:05.867047Z",
          "iopub.status.idle": "2023-12-22T16:23:06.311576Z",
          "shell.execute_reply.started": "2023-12-22T16:23:05.866995Z",
          "shell.execute_reply": "2023-12-22T16:23:06.310274Z"
        },
        "trusted": true,
        "id": "EdnZxWa1VOLJ"
      },
      "execution_count": null,
      "outputs": []
    },
    {
      "cell_type": "markdown",
      "source": [
        "### **Transformation of Dataset_2 like Dataset_1**\n"
      ],
      "metadata": {
        "id": "Tu30A1hFVOLJ"
      }
    },
    {
      "cell_type": "code",
      "source": [
        "#transformation of Dataset_2 like Dataset_1\n",
        "\n",
        "data = pd.read_excel('Dataset_2.xlsx')\n",
        "\n",
        "# Define mappings for each categorical feature\n",
        "mapping_MenopausalStatus = {\n",
        "    0: 'Pre',\n",
        "    1: 'Post',\n",
        "    2: 'nan'\n",
        "}\n",
        "\n",
        "mapping_Recurrence = {\n",
        "    0: 'Not Recurred',\n",
        "    1: 'Recurred'\n",
        "}\n",
        "\n",
        "mapping_ER = {\n",
        "    0: 'Negative',\n",
        "    1: 'Positive'\n",
        "}\n",
        "\n",
        "\n",
        "mapping_PR = {\n",
        "    0: 'Negative',\n",
        "    1: 'Positive'\n",
        "}\n",
        "\n",
        "\n",
        "mapping_HER2 = {\n",
        "    0: 'Negative',\n",
        "    1: 'Positive',\n",
        "    2: 'Borderline'\n",
        "}\n",
        "\n",
        "\n",
        "mapping_TunorLocation = {\n",
        "    'L': 'Left',\n",
        "    'R': 'Right'\n",
        "}\n",
        "\n",
        "\n",
        "mapping_Surgery = {\n",
        "    0: 'Breast Conserving',\n",
        "    1: 'Mastectomy'\n",
        "}\n",
        "\n",
        "mapping_HistologicalType = {\n",
        "    0: 'DCIS',\n",
        "    1: 'Breast Invasive Ductal Carcinoma',\n",
        "    2: 'Breast Invasive Lobular Carcinoma',\n",
        "    3: 'Metaplastic Breast Cancer',\n",
        "    4: 'LCIS',\n",
        "    5: 'tubular',\n",
        "    6: 'Breast Mixed Ductal and Lobular Carcinoma',\n",
        "    7: 'micropapillary',\n",
        "    8: 'colloid',\n",
        "    9: 'Breast Invasive Mixed Mucinous Carcinoma',\n",
        "    10: 'medullary'\n",
        "}\n",
        "\n",
        "mapping_MolSubtype = {\n",
        "    0: 'LumA',\n",
        "    1: 'LumB',\n",
        "    2: 'Her2',\n",
        "    3: 'Basal'\n",
        "}\n",
        "\n",
        "mapping_Chemo = {\n",
        "    0: 'No',\n",
        "    1: 'Yes'\n",
        "}\n",
        "\n",
        "mapping_Radio = {\n",
        "    0: 'No',\n",
        "    1: 'Yes'\n",
        "}\n",
        "\n",
        "mapping_TumorGrade = {\n",
        "    1:1.0,\n",
        "    2:2.0,\n",
        "    3:3.0\n",
        "}\n",
        "\n",
        "# Revert numerical categories back to original strings for each feature\n",
        "data['Menopausal Status'] = data['Menopausal Status'].map(mapping_MenopausalStatus)\n",
        "data['Recurrence Free Status'] = data['Recurrence Free Status'].map(mapping_Recurrence)\n",
        "data['ER'] = data['ER'].map(mapping_ER)\n",
        "data['PR'] = data['PR'].map(mapping_PR)\n",
        "data['HER2'] = data['HER2'].map(mapping_HER2)\n",
        "data['Tumor Location'] = data['Tumor Location'].map(mapping_TunorLocation)\n",
        "data['Type of Surgery'] = data['Type of Surgery'].map(mapping_Surgery)\n",
        "data['Histological Type'] = data['Histological Type'].map(mapping_HistologicalType)\n",
        "data['Mol Subtype'] = data['Mol Subtype'].map(mapping_MolSubtype)\n",
        "data['Chemotherapy'] = data['Chemotherapy'].map(mapping_Chemo)\n",
        "data['Radiotherapy'] = data['Radiotherapy'].map(mapping_Radio)\n",
        "data['Tumor Grade'] = data['Tumor Grade'].map(mapping_TumorGrade)\n",
        "\n",
        "# Save the DataFrame to an Excel file\n",
        "data.to_excel('Dataset_2_transformed.xlsx', index=False)"
      ],
      "metadata": {
        "execution": {
          "iopub.status.busy": "2023-12-22T16:23:11.368572Z",
          "iopub.execute_input": "2023-12-22T16:23:11.369304Z",
          "iopub.status.idle": "2023-12-22T16:23:12.182103Z",
          "shell.execute_reply.started": "2023-12-22T16:23:11.369258Z",
          "shell.execute_reply": "2023-12-22T16:23:12.180862Z"
        },
        "trusted": true,
        "id": "E1oCG5r4VOLJ"
      },
      "execution_count": null,
      "outputs": []
    },
    {
      "cell_type": "code",
      "source": [
        "# Replace 'NP' values with NaN in each column\n",
        "data.replace('NP', np.nan, inplace=True)\n",
        "\n",
        "# Count occurrences of NaN in each column\n",
        "nan_counts = data.isnull().sum()\n",
        "\n",
        "# Display the counts\n",
        "print(\"Occurrences of NaN in each column after replacing 'NP':\")\n",
        "print(nan_counts)\n",
        "\n",
        "data.to_excel('Dataset_2_transformed.xlsx', index=False)"
      ],
      "metadata": {
        "execution": {
          "iopub.status.busy": "2023-12-22T16:24:00.693797Z",
          "iopub.execute_input": "2023-12-22T16:24:00.694265Z",
          "iopub.status.idle": "2023-12-22T16:24:01.162311Z",
          "shell.execute_reply.started": "2023-12-22T16:24:00.694225Z",
          "shell.execute_reply": "2023-12-22T16:24:01.160765Z"
        },
        "trusted": true,
        "id": "myhz5xGwVOLL"
      },
      "execution_count": null,
      "outputs": []
    },
    {
      "cell_type": "code",
      "source": [
        "Data2_trans = pd.read_excel('Dataset_2_transformed.xlsx')\n",
        "Data2_trans.head()"
      ],
      "metadata": {
        "execution": {
          "iopub.status.busy": "2023-12-22T16:24:04.746001Z",
          "iopub.execute_input": "2023-12-22T16:24:04.746534Z",
          "iopub.status.idle": "2023-12-22T16:24:05.215916Z",
          "shell.execute_reply.started": "2023-12-22T16:24:04.746467Z",
          "shell.execute_reply": "2023-12-22T16:24:05.214789Z"
        },
        "trusted": true,
        "id": "-MAmgh-5VOLM"
      },
      "execution_count": null,
      "outputs": []
    },
    {
      "cell_type": "code",
      "source": [
        "columns = ['Menopausal Status','Recurrence Free Status','Recurrence Free Status (Month)',\n",
        "           'Overall Survival Status (Month)','Tumor Size','Lymph Node Status','Tumor Grade',\n",
        "           'Mol Subtype','Histological Type','ER','PR','HER2','Chemotherapy','Radiotherapy',\n",
        "           'Type of Surgery','Tumor Location','Overall Survival Status']\n",
        "\n",
        "missing_counts = Data2_trans[columns].isnull().sum()\n",
        "missing_columns = missing_counts[missing_counts > 0].index.tolist()\n",
        "\n",
        "print(\"Columns with missing values:\")\n",
        "for column in missing_columns:\n",
        "    print(f\"{column}: {missing_counts[column]} missing values\")"
      ],
      "metadata": {
        "execution": {
          "iopub.status.busy": "2023-12-22T16:24:09.101829Z",
          "iopub.execute_input": "2023-12-22T16:24:09.102375Z",
          "iopub.status.idle": "2023-12-22T16:24:09.121174Z",
          "shell.execute_reply.started": "2023-12-22T16:24:09.102323Z",
          "shell.execute_reply": "2023-12-22T16:24:09.120048Z"
        },
        "trusted": true,
        "id": "sWjhHUIyVOLM"
      },
      "execution_count": null,
      "outputs": []
    },
    {
      "cell_type": "code",
      "source": [
        "# Select only the specified columns from the DataFrame\n",
        "selected_data = Data2_trans[columns]\n",
        "\n",
        "# Create a bar plot for missing values in the selected columns\n",
        "fig = plt.figure(figsize=(12, 8))\n",
        "sns.barplot(x=selected_data.isnull().sum().sort_values(ascending=False).values,\n",
        "            y=selected_data.isnull().sum().sort_values(ascending=False).index,\n",
        "            palette='Blues_d')\n",
        "\n",
        "plt.xlabel('Number of Missing Rows', size=12, labelpad=10)\n",
        "plt.ylabel('')\n",
        "plt.tick_params(axis='x', labelsize=10)\n",
        "plt.tick_params(axis='y', labelsize=10)\n",
        "plt.title('Missing Values in Selected Columns', size=12, pad=10)\n",
        "\n",
        "plt.show()\n"
      ],
      "metadata": {
        "execution": {
          "iopub.status.busy": "2023-12-22T16:24:23.053057Z",
          "iopub.execute_input": "2023-12-22T16:24:23.053894Z",
          "iopub.status.idle": "2023-12-22T16:24:23.373730Z",
          "shell.execute_reply.started": "2023-12-22T16:24:23.053822Z",
          "shell.execute_reply": "2023-12-22T16:24:23.372505Z"
        },
        "trusted": true,
        "id": "9rUBe26YVOLM"
      },
      "execution_count": null,
      "outputs": []
    },
    {
      "cell_type": "markdown",
      "source": [
        "## **Merging the two datasets**"
      ],
      "metadata": {
        "id": "1MUmvrSQVOLM"
      }
    },
    {
      "cell_type": "code",
      "source": [
        "df_merged = pd.concat([Data1, Data2_trans], axis=0)\n",
        "\n",
        "df_merged.to_csv('merged_data.csv', index=False)"
      ],
      "metadata": {
        "execution": {
          "iopub.status.busy": "2023-12-22T16:41:25.256994Z",
          "iopub.execute_input": "2023-12-22T16:41:25.257608Z",
          "iopub.status.idle": "2023-12-22T16:41:25.335528Z",
          "shell.execute_reply.started": "2023-12-22T16:41:25.257554Z",
          "shell.execute_reply": "2023-12-22T16:41:25.334500Z"
        },
        "trusted": true,
        "id": "gHkb5EgAVOLN"
      },
      "execution_count": null,
      "outputs": []
    },
    {
      "cell_type": "code",
      "source": [
        "df_merged"
      ],
      "metadata": {
        "execution": {
          "iopub.status.busy": "2023-12-22T16:41:26.340246Z",
          "iopub.execute_input": "2023-12-22T16:41:26.341286Z",
          "iopub.status.idle": "2023-12-22T16:41:26.388712Z",
          "shell.execute_reply.started": "2023-12-22T16:41:26.341217Z",
          "shell.execute_reply": "2023-12-22T16:41:26.387280Z"
        },
        "trusted": true,
        "id": "gvuzwDmbVOLN"
      },
      "execution_count": null,
      "outputs": []
    },
    {
      "cell_type": "code",
      "source": [
        "df_merged['Patient ID'] = 'Patient_' + df_merged.index.astype(str)\n",
        "df_merged.to_csv('merged_data.csv', index=False)"
      ],
      "metadata": {
        "execution": {
          "iopub.status.busy": "2023-12-22T16:41:28.333120Z",
          "iopub.execute_input": "2023-12-22T16:41:28.333641Z",
          "iopub.status.idle": "2023-12-22T16:41:28.409097Z",
          "shell.execute_reply.started": "2023-12-22T16:41:28.333595Z",
          "shell.execute_reply": "2023-12-22T16:41:28.407751Z"
        },
        "trusted": true,
        "id": "Y2vz0RcHVOLN"
      },
      "execution_count": null,
      "outputs": []
    },
    {
      "cell_type": "code",
      "source": [
        "df_merged"
      ],
      "metadata": {
        "execution": {
          "iopub.status.busy": "2023-12-22T16:41:31.116884Z",
          "iopub.execute_input": "2023-12-22T16:41:31.117362Z",
          "iopub.status.idle": "2023-12-22T16:41:31.167655Z",
          "shell.execute_reply.started": "2023-12-22T16:41:31.117323Z",
          "shell.execute_reply": "2023-12-22T16:41:31.166347Z"
        },
        "trusted": true,
        "id": "4NI5lB0KVOLS"
      },
      "execution_count": null,
      "outputs": []
    },
    {
      "cell_type": "markdown",
      "source": [
        "## **Handle the missing values in the merged dataset**"
      ],
      "metadata": {
        "id": "FIisaVKYpEco"
      }
    },
    {
      "cell_type": "code",
      "source": [
        "df_merged= pd.read_csv('/kaggle/working/merged_data.csv')\n",
        "df_merged.head()"
      ],
      "metadata": {
        "id": "xWy6aiSqpEcp",
        "execution": {
          "iopub.status.busy": "2023-12-22T16:41:32.289177Z",
          "iopub.execute_input": "2023-12-22T16:41:32.289769Z",
          "iopub.status.idle": "2023-12-22T16:41:32.342839Z",
          "shell.execute_reply.started": "2023-12-22T16:41:32.289720Z",
          "shell.execute_reply": "2023-12-22T16:41:32.341743Z"
        },
        "trusted": true
      },
      "execution_count": null,
      "outputs": []
    },
    {
      "cell_type": "code",
      "source": [
        "df_merged.shape"
      ],
      "metadata": {
        "id": "8j7ZWGNppEcp",
        "execution": {
          "iopub.status.busy": "2023-12-22T16:41:33.781647Z",
          "iopub.execute_input": "2023-12-22T16:41:33.782135Z",
          "iopub.status.idle": "2023-12-22T16:41:33.790830Z",
          "shell.execute_reply.started": "2023-12-22T16:41:33.782094Z",
          "shell.execute_reply": "2023-12-22T16:41:33.789498Z"
        },
        "trusted": true
      },
      "execution_count": null,
      "outputs": []
    },
    {
      "cell_type": "code",
      "source": [
        "missing_counts = df_merged.isnull().sum()\n",
        "missing_columns = missing_counts[missing_counts > 0].index.tolist()\n",
        "\n",
        "print(\"Columns with missing values:\")\n",
        "for column in missing_columns:\n",
        "    print(f\"{column}: {missing_counts[column]} missing values\")"
      ],
      "metadata": {
        "id": "gqqJ2N3kpEcp",
        "execution": {
          "iopub.status.busy": "2023-12-22T16:41:34.851589Z",
          "iopub.execute_input": "2023-12-22T16:41:34.852074Z",
          "iopub.status.idle": "2023-12-22T16:41:34.868507Z",
          "shell.execute_reply.started": "2023-12-22T16:41:34.852034Z",
          "shell.execute_reply": "2023-12-22T16:41:34.867316Z"
        },
        "trusted": true
      },
      "execution_count": null,
      "outputs": []
    },
    {
      "cell_type": "code",
      "source": [
        "df_merged = df_merged.dropna(subset=['Histological Type'], how='any')\n",
        "#df_cleaned.to_excel('Dataset_2_cleaned.xlsx', index=False)"
      ],
      "metadata": {
        "id": "VH2tmGuIpEcq",
        "execution": {
          "iopub.status.busy": "2023-12-22T16:41:35.916675Z",
          "iopub.execute_input": "2023-12-22T16:41:35.917183Z",
          "iopub.status.idle": "2023-12-22T16:41:35.928434Z",
          "shell.execute_reply.started": "2023-12-22T16:41:35.917142Z",
          "shell.execute_reply": "2023-12-22T16:41:35.927153Z"
        },
        "trusted": true
      },
      "execution_count": null,
      "outputs": []
    },
    {
      "cell_type": "code",
      "source": [
        "# Create a bar plot for missing values in the selected columns\n",
        "fig = plt.figure(figsize=(12, 8))\n",
        "sns.barplot(x=df_merged.isnull().sum().sort_values(ascending=False).values,\n",
        "            y=df_merged.isnull().sum().sort_values(ascending=False).index,\n",
        "            palette='Blues_d')\n",
        "\n",
        "plt.xlabel('Number of Missing Rows', size=12, labelpad=10)\n",
        "plt.ylabel('')\n",
        "plt.tick_params(axis='x', labelsize=10)\n",
        "plt.tick_params(axis='y', labelsize=10)\n",
        "plt.title('Missing Values in Selected Columns', size=12, pad=10)\n",
        "\n",
        "plt.show()\n"
      ],
      "metadata": {
        "id": "f3_0G95epEcq",
        "execution": {
          "iopub.status.busy": "2023-12-22T16:41:37.310705Z",
          "iopub.execute_input": "2023-12-22T16:41:37.311731Z",
          "iopub.status.idle": "2023-12-22T16:41:37.657588Z",
          "shell.execute_reply.started": "2023-12-22T16:41:37.311667Z",
          "shell.execute_reply": "2023-12-22T16:41:37.656253Z"
        },
        "trusted": true
      },
      "execution_count": null,
      "outputs": []
    },
    {
      "cell_type": "code",
      "source": [
        "df_merged.drop(df_merged[df_merged['Chemotherapy'] == '0'].index, inplace=True)"
      ],
      "metadata": {
        "execution": {
          "iopub.status.busy": "2023-12-22T16:41:38.247627Z",
          "iopub.execute_input": "2023-12-22T16:41:38.248622Z",
          "iopub.status.idle": "2023-12-22T16:41:38.261365Z",
          "shell.execute_reply.started": "2023-12-22T16:41:38.248553Z",
          "shell.execute_reply": "2023-12-22T16:41:38.259411Z"
        },
        "trusted": true,
        "id": "95AvPv9SVOLU"
      },
      "execution_count": null,
      "outputs": []
    },
    {
      "cell_type": "code",
      "source": [
        "df_merged['Recurrence Free Status'] = df_merged.groupby(['Histological Type'])['Recurrence Free Status'].apply(lambda x: x.fillna(mode(x)[0][0]))\n",
        "df_merged['Recurrence Free Status (Month)'] = df_merged.groupby(['Histological Type', 'Recurrence Free Status'])['Recurrence Free Status (Month)'].apply(lambda x: x.fillna(x.mean()))\n",
        "df_merged['Overall Survival Status'] = df_merged.groupby(['Histological Type', 'Recurrence Free Status'])['Overall Survival Status'].apply(lambda x: x.fillna(mode(x)[0][0]))\n",
        "df_merged['Overall Survival Status (Month)'] = df_merged.groupby(['Histological Type', 'Overall Survival Status'])['Overall Survival Status (Month)'].apply(lambda x: x.fillna(x.mean()))\n",
        "\n",
        "# Chemotherapy, Hormone Therapy, Radio Therapy columns\n",
        "df_merged['Chemotherapy'] = df_merged.groupby(['Histological Type'])['Chemotherapy'].apply(lambda x: x.fillna(mode(x)[0][0]))\n",
        "df_merged['Radiotherapy'] = df_merged.groupby(['Histological Type'])['Radiotherapy'].apply(lambda x: x.fillna(mode(x)[0][0]))\n",
        "\n",
        "# Other columns\n",
        "df_merged['Tumor Size'] = df_merged.groupby(['Histological Type'])['Tumor Size'].apply(lambda x: x.fillna(x.median()))\n",
        "df_merged['Tumor Size'] = df_merged['Tumor Size'].fillna(mode(df_merged['Tumor Size'])[0][0])\n",
        "df_merged['Tumor Grade'] = df_merged.groupby(['Histological Type'])['Tumor Grade'].apply(lambda x: x.fillna(x.mode()))\n",
        "df_merged['Tumor Grade'] = df_merged['Tumor Grade'].fillna(mode(df_merged['Tumor Grade'])[0][0])\n",
        "df_merged['Tumor Location'] = df_merged.groupby(['Histological Type'])['Tumor Location'].apply(lambda x: x.fillna(x.mode()))\n",
        "df_merged['Lymph Node Status'] = df_merged.groupby(['Histological Type'])['Lymph Node Status'].apply(lambda x: x.fillna(x.mode()))\n",
        "df_merged['Lymph Node Status'] = df_merged['Lymph Node Status'].fillna(mode(df_merged['Lymph Node Status'])[0][0])\n",
        "df_merged['Menopausal Status'] = df_merged['Menopausal Status'].fillna(mode(df_merged['Menopausal Status'])[0][0])\n",
        "df_merged['Mol Subtype'] = df_merged.groupby(['Histological Type'])['Mol Subtype'].apply(lambda x: x.fillna(mode(x)[0][0]))\n",
        "df_merged['Type of Surgery'] = df_merged.groupby(['Histological Type'])['Type of Surgery'].apply(lambda x: x.fillna(mode(x)[0][0]))\n",
        "df_merged['Tumor Location'] = df_merged.groupby(['Histological Type'])['Tumor Location'].apply(lambda x: x.fillna(mode(x)[0][0]))\n"
      ],
      "metadata": {
        "execution": {
          "iopub.status.busy": "2023-12-22T16:41:39.349375Z",
          "iopub.execute_input": "2023-12-22T16:41:39.350070Z",
          "iopub.status.idle": "2023-12-22T16:41:39.542963Z",
          "shell.execute_reply.started": "2023-12-22T16:41:39.350027Z",
          "shell.execute_reply": "2023-12-22T16:41:39.541787Z"
        },
        "trusted": true,
        "id": "wbfdyFROVOLU"
      },
      "execution_count": null,
      "outputs": []
    },
    {
      "cell_type": "code",
      "source": [
        "# Create a bar plot for missing values in the selected columns\n",
        "fig = plt.figure(figsize=(12, 8))\n",
        "sns.barplot(x=df_merged.isnull().sum().sort_values(ascending=False).values,\n",
        "            y=df_merged.isnull().sum().sort_values(ascending=False).index,\n",
        "            palette='Reds_d')\n",
        "\n",
        "plt.xlabel('Number of Missing Rows', size=12, labelpad=10)\n",
        "plt.ylabel('')\n",
        "plt.tick_params(axis='x', labelsize=10)\n",
        "plt.tick_params(axis='y', labelsize=10)\n",
        "plt.title('Missing Values in Selected Columns', size=12, pad=10)\n",
        "\n",
        "plt.show()"
      ],
      "metadata": {
        "id": "xWdH18BopEcr",
        "execution": {
          "iopub.status.busy": "2023-12-22T16:41:40.403777Z",
          "iopub.execute_input": "2023-12-22T16:41:40.404437Z",
          "iopub.status.idle": "2023-12-22T16:41:40.750036Z",
          "shell.execute_reply.started": "2023-12-22T16:41:40.404396Z",
          "shell.execute_reply": "2023-12-22T16:41:40.748729Z"
        },
        "trusted": true
      },
      "execution_count": null,
      "outputs": []
    },
    {
      "cell_type": "code",
      "source": [
        "missing_counts = df_merged.isnull().sum()\n",
        "missing_columns = missing_counts[missing_counts > 0].index.tolist()\n",
        "\n",
        "print(\"Columns with missing values:\")\n",
        "for column in missing_columns:\n",
        "    print(f\"{column}: {missing_counts[column]} missing values\")\n"
      ],
      "metadata": {
        "id": "GzkYZXmTpEcr",
        "execution": {
          "iopub.status.busy": "2023-12-22T16:41:42.609495Z",
          "iopub.execute_input": "2023-12-22T16:41:42.610184Z",
          "iopub.status.idle": "2023-12-22T16:41:42.627051Z",
          "shell.execute_reply.started": "2023-12-22T16:41:42.610142Z",
          "shell.execute_reply": "2023-12-22T16:41:42.625570Z"
        },
        "trusted": true
      },
      "execution_count": null,
      "outputs": []
    },
    {
      "cell_type": "code",
      "source": [
        "columns_with_missing_values = ['Overall Survival Status (Month)',\n",
        "                                'Recurrence Free Status (Month)']\n",
        "\n",
        "# Drop rows with missing values in the specified columns\n",
        "df_merged = df_merged.dropna(subset=columns_with_missing_values)"
      ],
      "metadata": {
        "execution": {
          "iopub.status.busy": "2023-12-22T16:42:00.670660Z",
          "iopub.execute_input": "2023-12-22T16:42:00.671134Z",
          "iopub.status.idle": "2023-12-22T16:42:00.681064Z",
          "shell.execute_reply.started": "2023-12-22T16:42:00.671094Z",
          "shell.execute_reply": "2023-12-22T16:42:00.679971Z"
        },
        "trusted": true,
        "id": "CU-PSXaMVOLV"
      },
      "execution_count": null,
      "outputs": []
    },
    {
      "cell_type": "code",
      "source": [
        "df_merged.isna().sum()"
      ],
      "metadata": {
        "execution": {
          "iopub.status.busy": "2023-12-22T16:42:03.161539Z",
          "iopub.execute_input": "2023-12-22T16:42:03.162196Z",
          "iopub.status.idle": "2023-12-22T16:42:03.176668Z",
          "shell.execute_reply.started": "2023-12-22T16:42:03.162156Z",
          "shell.execute_reply": "2023-12-22T16:42:03.175567Z"
        },
        "trusted": true,
        "id": "tg6st6V0VOLV"
      },
      "execution_count": null,
      "outputs": []
    },
    {
      "cell_type": "code",
      "source": [
        "df_merged.to_csv('merged_data.csv', index=False)"
      ],
      "metadata": {
        "execution": {
          "iopub.status.busy": "2023-12-22T16:42:08.642724Z",
          "iopub.execute_input": "2023-12-22T16:42:08.643240Z",
          "iopub.status.idle": "2023-12-22T16:42:08.710362Z",
          "shell.execute_reply.started": "2023-12-22T16:42:08.643199Z",
          "shell.execute_reply": "2023-12-22T16:42:08.708731Z"
        },
        "trusted": true,
        "id": "jBBuyAEtVOLV"
      },
      "execution_count": null,
      "outputs": []
    },
    {
      "cell_type": "markdown",
      "source": [
        "_________________________________________________________________________________________________"
      ],
      "metadata": {
        "id": "X49VDz2lVOLV"
      }
    },
    {
      "cell_type": "markdown",
      "source": [
        "## **EDA**"
      ],
      "metadata": {
        "id": "AIp0RkynVOLV"
      }
    },
    {
      "cell_type": "markdown",
      "source": [
        "### **Check the balance of the target column**"
      ],
      "metadata": {
        "id": "DD9CDig1VOLW"
      }
    },
    {
      "cell_type": "code",
      "source": [
        "df_merged.head()"
      ],
      "metadata": {
        "execution": {
          "iopub.status.busy": "2023-12-22T16:42:11.851696Z",
          "iopub.execute_input": "2023-12-22T16:42:11.852207Z",
          "iopub.status.idle": "2023-12-22T16:42:11.883240Z",
          "shell.execute_reply.started": "2023-12-22T16:42:11.852159Z",
          "shell.execute_reply": "2023-12-22T16:42:11.882017Z"
        },
        "trusted": true,
        "id": "4wzc4JnzVOLW"
      },
      "execution_count": null,
      "outputs": []
    },
    {
      "cell_type": "code",
      "source": [
        "df_merged.info()"
      ],
      "metadata": {
        "execution": {
          "iopub.status.busy": "2023-12-22T16:42:12.441511Z",
          "iopub.execute_input": "2023-12-22T16:42:12.442001Z",
          "iopub.status.idle": "2023-12-22T16:42:12.465507Z",
          "shell.execute_reply.started": "2023-12-22T16:42:12.441962Z",
          "shell.execute_reply": "2023-12-22T16:42:12.464132Z"
        },
        "trusted": true,
        "id": "6gnx_CxRVOLW"
      },
      "execution_count": null,
      "outputs": []
    },
    {
      "cell_type": "code",
      "source": [
        "df_merged.isna().sum()"
      ],
      "metadata": {
        "execution": {
          "iopub.status.busy": "2023-12-22T16:42:13.028490Z",
          "iopub.execute_input": "2023-12-22T16:42:13.028951Z",
          "iopub.status.idle": "2023-12-22T16:42:13.046709Z",
          "shell.execute_reply.started": "2023-12-22T16:42:13.028912Z",
          "shell.execute_reply": "2023-12-22T16:42:13.045430Z"
        },
        "trusted": true,
        "id": "toczBChuVOLX"
      },
      "execution_count": null,
      "outputs": []
    },
    {
      "cell_type": "code",
      "source": [
        "df_merged.drop(df_merged[df_merged['Chemotherapy'] == 0].index, inplace=True)"
      ],
      "metadata": {
        "execution": {
          "iopub.status.busy": "2023-12-22T16:42:13.574496Z",
          "iopub.execute_input": "2023-12-22T16:42:13.574995Z",
          "iopub.status.idle": "2023-12-22T16:42:13.585661Z",
          "shell.execute_reply.started": "2023-12-22T16:42:13.574946Z",
          "shell.execute_reply": "2023-12-22T16:42:13.584403Z"
        },
        "trusted": true,
        "id": "_6ooBm7xVOLX"
      },
      "execution_count": null,
      "outputs": []
    },
    {
      "cell_type": "code",
      "source": [
        "import seaborn as sns\n",
        "import matplotlib.pyplot as plt\n",
        "\n",
        "# Display the value counts\n",
        "print(df_merged[\"Recurrence Free Status\"].value_counts())\n",
        "\n",
        "# Create a countplot\n",
        "sns.countplot(data=df_merged, x='Recurrence Free Status', palette='pastel')\n",
        "\n",
        "# Show the plot\n",
        "plt.show()"
      ],
      "metadata": {
        "execution": {
          "iopub.status.busy": "2023-12-22T16:42:14.200103Z",
          "iopub.execute_input": "2023-12-22T16:42:14.200607Z",
          "iopub.status.idle": "2023-12-22T16:42:14.356063Z",
          "shell.execute_reply.started": "2023-12-22T16:42:14.200561Z",
          "shell.execute_reply": "2023-12-22T16:42:14.354794Z"
        },
        "trusted": true,
        "id": "YSyBMHNpVOLX"
      },
      "execution_count": null,
      "outputs": []
    },
    {
      "cell_type": "code",
      "source": [
        "import seaborn as sns\n",
        "import matplotlib.pyplot as plt\n",
        "\n",
        "categorical_columns = ['Menopausal Status','Tumor Size','Lymph Node Status','Tumor Grade',\n",
        "                       'Mol Subtype','Histological Type','ER','PR','HER2','Chemotherapy',\n",
        "                       'Radiotherapy','Tumor Location','Overall Survival Status']\n",
        "\n",
        "# Create countplots for categorical variables\n",
        "for column in categorical_columns:\n",
        "    plt.figure(figsize=(10, 6))\n",
        "    sns.countplot(x=column, data=df_merged, palette='pastel')\n",
        "    plt.title(f'Countplot of {column}')\n",
        "    plt.show()"
      ],
      "metadata": {
        "execution": {
          "iopub.status.busy": "2023-12-22T16:42:14.771413Z",
          "iopub.execute_input": "2023-12-22T16:42:14.771939Z",
          "iopub.status.idle": "2023-12-22T16:42:17.039754Z",
          "shell.execute_reply.started": "2023-12-22T16:42:14.771891Z",
          "shell.execute_reply": "2023-12-22T16:42:17.038363Z"
        },
        "trusted": true,
        "id": "nQpSlL7GVOLX"
      },
      "execution_count": null,
      "outputs": []
    },
    {
      "cell_type": "code",
      "source": [
        "df_merged.to_csv('merged_data.csv', index=False)"
      ],
      "metadata": {
        "execution": {
          "iopub.status.busy": "2023-12-22T16:42:17.042938Z",
          "iopub.execute_input": "2023-12-22T16:42:17.043559Z",
          "iopub.status.idle": "2023-12-22T16:42:17.109937Z",
          "shell.execute_reply.started": "2023-12-22T16:42:17.043493Z",
          "shell.execute_reply": "2023-12-22T16:42:17.108651Z"
        },
        "trusted": true,
        "id": "rE6OL57iVOLY"
      },
      "execution_count": null,
      "outputs": []
    },
    {
      "cell_type": "markdown",
      "source": [
        "# Baheya recurrence dataset Grad"
      ],
      "metadata": {
        "id": "Wgi6DQDMVOLY"
      }
    },
    {
      "cell_type": "code",
      "source": [
        "Baheya = pd.read_excel('/kaggle/input/baheya-recurrence/Recurrence_dataset.xlsx')\n",
        "Baheya.head()"
      ],
      "metadata": {
        "execution": {
          "iopub.status.busy": "2024-01-20T16:58:03.010088Z",
          "iopub.execute_input": "2024-01-20T16:58:03.010549Z",
          "iopub.status.idle": "2024-01-20T16:58:03.522717Z",
          "shell.execute_reply.started": "2024-01-20T16:58:03.010513Z",
          "shell.execute_reply": "2024-01-20T16:58:03.521576Z"
        },
        "trusted": true,
        "id": "U58wGIymVOLY",
        "outputId": "3eb8f91c-a77f-460d-9d87-4a7068d512f3"
      },
      "execution_count": null,
      "outputs": [
        {
          "execution_count": 281,
          "output_type": "execute_result",
          "data": {
            "text/plain": "   MRN  Age at diagnosis    BMI family.Hist_cancer Menopausal state Date of Diagnosis (PATHOLOGICAL REPORT) T at Presentation   N M at Presentation Immuno Laterality        ER        PR      HER2  KI67 (%) Molecular.subtype Unilateral/Bilateral Biopsy Laterality              Tumor Type..BIOPSY Grade Specimen Laterality       Tumor Type from specimen   Surgery Type        Axilla Specimen Type Grade.1 Tumor Size (cm)  Positive LN  Total LN Dissected First Regimen Type Local/Distant (updated) Unnamed: 29  survival.duration  Diseasefree.survival.DURAION2 Radiotherapy\n0   61                30  22.04                 No            Pre-M                                  1.7.15                T3  N3                M0             Right  Positive  Positive  Negative       NaN         Luminal A           Unilateral             Right  Invasive Lobular carcinoma NOS     2               Right  Invasive Lobular carcinoma NOS    Mastectomy  Axillary Dissection (ALND)       2           9 x 7          8.0                11.0        Neoadjuvant         Local & Distant       Alive               97.0                           95.0          Yes\n1  156                55  40.37           Yes - BC           Post-M                                  1.4.15                T2  N2                M0             Right  Positive  Positive  Negative       NaN         Luminal A           Unilateral             Right   Invasive duct carcinoma (NST)     3               Right   Invasive duct carcinoma (NST)  Conservative                         NaN       2       2.2 x 1.8          7.0                17.0            Surgery                   Local       Alive               91.0                           90.0          Yes\n2  272                66  27.06                 No           Post-M                                  1.4.15                T3  Nx                M0              Left  Positive  Positive  Negative       NaN         Luminal A           Unilateral              Left   Invasive duct carcinoma (NST)     2                Left   Invasive duct carcinoma (NST)    Mastectomy  Axillary Dissection (ALND)       2         3.5 x 3          NaN                 NaN        Neoadjuvant         Local & Distant        dead                NaN                           36.0          Yes\n3  284                64  35.21                 No           Post-M                                  1.4.15                T4  Nx                M0              Left  Positive  Positive  Negative       NaN         Luminal A           Unilateral              Left  Invasive Lobular carcinoma NOS     2                Left   Invasive duct carcinoma (NST)    Mastectomy  Axillary Dissection (ALND)       2       7 x 6 x 4         11.0                12.0        Neoadjuvant         Local & Distant        dead               24.0                           18.0          Yes\n4  620                47  31.23           Yes - BC            Pre-M                                  1.4.15                T4  Nx                M0              Left  Negative  Negative  Negative       NaN              TNBC           Unilateral              Left   Invasive duct carcinoma (NST)     2                Left   Invasive duct carcinoma (NST)    Mastectomy  Axillary Dissection (ALND)       2           4 x 3          8.0                22.0        Neoadjuvant                   Local       Alive               54.0                           49.0          Yes",
            "text/html": "<div>\n<style scoped>\n    .dataframe tbody tr th:only-of-type {\n        vertical-align: middle;\n    }\n\n    .dataframe tbody tr th {\n        vertical-align: top;\n    }\n\n    .dataframe thead th {\n        text-align: right;\n    }\n</style>\n<table border=\"1\" class=\"dataframe\">\n  <thead>\n    <tr style=\"text-align: right;\">\n      <th></th>\n      <th>MRN</th>\n      <th>Age at diagnosis</th>\n      <th>BMI</th>\n      <th>family.Hist_cancer</th>\n      <th>Menopausal state</th>\n      <th>Date of Diagnosis (PATHOLOGICAL REPORT)</th>\n      <th>T at Presentation</th>\n      <th>N</th>\n      <th>M at Presentation</th>\n      <th>Immuno Laterality</th>\n      <th>ER</th>\n      <th>PR</th>\n      <th>HER2</th>\n      <th>KI67 (%)</th>\n      <th>Molecular.subtype</th>\n      <th>Unilateral/Bilateral</th>\n      <th>Biopsy Laterality</th>\n      <th>Tumor Type..BIOPSY</th>\n      <th>Grade</th>\n      <th>Specimen Laterality</th>\n      <th>Tumor Type from specimen</th>\n      <th>Surgery Type</th>\n      <th>Axilla Specimen Type</th>\n      <th>Grade.1</th>\n      <th>Tumor Size (cm)</th>\n      <th>Positive LN</th>\n      <th>Total LN Dissected</th>\n      <th>First Regimen Type</th>\n      <th>Local/Distant (updated)</th>\n      <th>Unnamed: 29</th>\n      <th>survival.duration</th>\n      <th>Diseasefree.survival.DURAION2</th>\n      <th>Radiotherapy</th>\n    </tr>\n  </thead>\n  <tbody>\n    <tr>\n      <th>0</th>\n      <td>61</td>\n      <td>30</td>\n      <td>22.04</td>\n      <td>No</td>\n      <td>Pre-M</td>\n      <td>1.7.15</td>\n      <td>T3</td>\n      <td>N3</td>\n      <td>M0</td>\n      <td>Right</td>\n      <td>Positive</td>\n      <td>Positive</td>\n      <td>Negative</td>\n      <td>NaN</td>\n      <td>Luminal A</td>\n      <td>Unilateral</td>\n      <td>Right</td>\n      <td>Invasive Lobular carcinoma NOS</td>\n      <td>2</td>\n      <td>Right</td>\n      <td>Invasive Lobular carcinoma NOS</td>\n      <td>Mastectomy</td>\n      <td>Axillary Dissection (ALND)</td>\n      <td>2</td>\n      <td>9 x 7</td>\n      <td>8.0</td>\n      <td>11.0</td>\n      <td>Neoadjuvant</td>\n      <td>Local &amp; Distant</td>\n      <td>Alive</td>\n      <td>97.0</td>\n      <td>95.0</td>\n      <td>Yes</td>\n    </tr>\n    <tr>\n      <th>1</th>\n      <td>156</td>\n      <td>55</td>\n      <td>40.37</td>\n      <td>Yes - BC</td>\n      <td>Post-M</td>\n      <td>1.4.15</td>\n      <td>T2</td>\n      <td>N2</td>\n      <td>M0</td>\n      <td>Right</td>\n      <td>Positive</td>\n      <td>Positive</td>\n      <td>Negative</td>\n      <td>NaN</td>\n      <td>Luminal A</td>\n      <td>Unilateral</td>\n      <td>Right</td>\n      <td>Invasive duct carcinoma (NST)</td>\n      <td>3</td>\n      <td>Right</td>\n      <td>Invasive duct carcinoma (NST)</td>\n      <td>Conservative</td>\n      <td>NaN</td>\n      <td>2</td>\n      <td>2.2 x 1.8</td>\n      <td>7.0</td>\n      <td>17.0</td>\n      <td>Surgery</td>\n      <td>Local</td>\n      <td>Alive</td>\n      <td>91.0</td>\n      <td>90.0</td>\n      <td>Yes</td>\n    </tr>\n    <tr>\n      <th>2</th>\n      <td>272</td>\n      <td>66</td>\n      <td>27.06</td>\n      <td>No</td>\n      <td>Post-M</td>\n      <td>1.4.15</td>\n      <td>T3</td>\n      <td>Nx</td>\n      <td>M0</td>\n      <td>Left</td>\n      <td>Positive</td>\n      <td>Positive</td>\n      <td>Negative</td>\n      <td>NaN</td>\n      <td>Luminal A</td>\n      <td>Unilateral</td>\n      <td>Left</td>\n      <td>Invasive duct carcinoma (NST)</td>\n      <td>2</td>\n      <td>Left</td>\n      <td>Invasive duct carcinoma (NST)</td>\n      <td>Mastectomy</td>\n      <td>Axillary Dissection (ALND)</td>\n      <td>2</td>\n      <td>3.5 x 3</td>\n      <td>NaN</td>\n      <td>NaN</td>\n      <td>Neoadjuvant</td>\n      <td>Local &amp; Distant</td>\n      <td>dead</td>\n      <td>NaN</td>\n      <td>36.0</td>\n      <td>Yes</td>\n    </tr>\n    <tr>\n      <th>3</th>\n      <td>284</td>\n      <td>64</td>\n      <td>35.21</td>\n      <td>No</td>\n      <td>Post-M</td>\n      <td>1.4.15</td>\n      <td>T4</td>\n      <td>Nx</td>\n      <td>M0</td>\n      <td>Left</td>\n      <td>Positive</td>\n      <td>Positive</td>\n      <td>Negative</td>\n      <td>NaN</td>\n      <td>Luminal A</td>\n      <td>Unilateral</td>\n      <td>Left</td>\n      <td>Invasive Lobular carcinoma NOS</td>\n      <td>2</td>\n      <td>Left</td>\n      <td>Invasive duct carcinoma (NST)</td>\n      <td>Mastectomy</td>\n      <td>Axillary Dissection (ALND)</td>\n      <td>2</td>\n      <td>7 x 6 x 4</td>\n      <td>11.0</td>\n      <td>12.0</td>\n      <td>Neoadjuvant</td>\n      <td>Local &amp; Distant</td>\n      <td>dead</td>\n      <td>24.0</td>\n      <td>18.0</td>\n      <td>Yes</td>\n    </tr>\n    <tr>\n      <th>4</th>\n      <td>620</td>\n      <td>47</td>\n      <td>31.23</td>\n      <td>Yes - BC</td>\n      <td>Pre-M</td>\n      <td>1.4.15</td>\n      <td>T4</td>\n      <td>Nx</td>\n      <td>M0</td>\n      <td>Left</td>\n      <td>Negative</td>\n      <td>Negative</td>\n      <td>Negative</td>\n      <td>NaN</td>\n      <td>TNBC</td>\n      <td>Unilateral</td>\n      <td>Left</td>\n      <td>Invasive duct carcinoma (NST)</td>\n      <td>2</td>\n      <td>Left</td>\n      <td>Invasive duct carcinoma (NST)</td>\n      <td>Mastectomy</td>\n      <td>Axillary Dissection (ALND)</td>\n      <td>2</td>\n      <td>4 x 3</td>\n      <td>8.0</td>\n      <td>22.0</td>\n      <td>Neoadjuvant</td>\n      <td>Local</td>\n      <td>Alive</td>\n      <td>54.0</td>\n      <td>49.0</td>\n      <td>Yes</td>\n    </tr>\n  </tbody>\n</table>\n</div>"
          },
          "metadata": {}
        }
      ]
    },
    {
      "cell_type": "code",
      "source": [
        "import warnings\n",
        "warnings.filterwarnings('ignore')\n",
        "\n",
        "import numpy as np\n",
        "import pandas as pd\n",
        "pd.set_option('display.max_rows', 500)\n",
        "pd.set_option('display.max_columns', 500)\n",
        "pd.set_option('display.width', 1000)\n",
        "\n",
        "from scipy.stats import mode\n",
        "from sklearn.preprocessing import LabelEncoder\n",
        "from sklearn.model_selection import train_test_split, StratifiedKFold\n",
        "from sklearn.metrics import roc_auc_score\n",
        "\n",
        "import matplotlib.pyplot as plt\n",
        "import seaborn as sns\n",
        "\n",
        "#Basic libraries\n",
        "import numpy as np\n",
        "import pandas as pd\n",
        "from scipy import stats\n",
        "\n",
        "# Visualization libraries\n",
        "import matplotlib.pyplot as plt\n",
        "import matplotlib\n",
        "import seaborn as sns\n",
        "import yellowbrick as yb\n",
        "from matplotlib.colors import ListedColormap\n",
        "from yellowbrick.classifier import ROCAUC\n",
        "from matplotlib_venn import venn3\n",
        "import matplotlib.patches as mpatches\n",
        "\n",
        "# Statistics, EDA, metrics libraries\n",
        "from scipy.stats import normaltest, skew\n",
        "from sklearn.preprocessing import OneHotEncoder, LabelEncoder, StandardScaler\n",
        "from sklearn.metrics import r2_score, median_absolute_error, mean_absolute_error, accuracy_score, f1_score\n",
        "from sklearn.metrics import median_absolute_error, mean_squared_error, mean_squared_log_error\n",
        "from sklearn.metrics import classification_report, confusion_matrix\n",
        "from scipy.special import boxcox, inv_boxcox\n",
        "\n",
        "from sklearn import preprocessing\n",
        "\n",
        "from sklearn.linear_model import LogisticRegression, LogisticRegressionCV\n",
        "from sklearn.model_selection import train_test_split, cross_val_score, GridSearchCV, StratifiedKFold, cross_val_predict,  KFold\n",
        "from sklearn.neighbors import KNeighborsClassifier\n",
        "from sklearn.linear_model import LogisticRegression\n",
        "from sklearn.tree import DecisionTreeClassifier\n",
        "from sklearn.ensemble import RandomForestClassifier\n",
        "from sklearn.ensemble import ExtraTreesClassifier\n",
        "from sklearn.ensemble import AdaBoostClassifier\n",
        "from sklearn.svm import SVC\n",
        "from sklearn.metrics import roc_curve, auc\n",
        "from sklearn.decomposition import PCA\n",
        "from scipy.stats import zscore\n",
        "from itertools import combinations\n",
        "from xgboost.sklearn import XGBClassifier\n",
        "from sklearn.ensemble import IsolationForest\n",
        "from sklearn.cluster import KMeans\n",
        "\n",
        "from IPython.display import set_matplotlib_formats\n",
        "plt.style.use('ggplot')\n",
        "sns.set_style('whitegrid')\n",
        "sns.set(font_scale=1.5)\n",
        "%config InlineBackend.figure_format = 'retina'\n",
        "\n",
        "import warnings\n",
        "warnings.filterwarnings(\"ignore\")\n",
        "\n",
        "\n",
        "# Pallets used for visualizations\n",
        "color= \"Spectral\"\n",
        "color_plt = ListedColormap(sns.color_palette(color).as_hex())\n",
        "color_hist = 'teal'\n",
        "two_colors = [ sns.color_palette(color)[0], sns.color_palette(color)[5]]\n",
        "three_colors = [ sns.color_palette(color)[5],sns.color_palette(color)[2], sns.color_palette(color)[0]]"
      ],
      "metadata": {
        "execution": {
          "iopub.status.busy": "2024-01-20T16:58:04.568981Z",
          "iopub.execute_input": "2024-01-20T16:58:04.569584Z",
          "iopub.status.idle": "2024-01-20T16:58:04.640003Z",
          "shell.execute_reply.started": "2024-01-20T16:58:04.569532Z",
          "shell.execute_reply": "2024-01-20T16:58:04.638685Z"
        },
        "trusted": true,
        "id": "YaSRek9lVOLZ"
      },
      "execution_count": null,
      "outputs": []
    },
    {
      "cell_type": "code",
      "source": [
        "Baheya.info()"
      ],
      "metadata": {
        "execution": {
          "iopub.status.busy": "2024-01-20T16:58:05.268768Z",
          "iopub.execute_input": "2024-01-20T16:58:05.269210Z",
          "iopub.status.idle": "2024-01-20T16:58:05.289098Z",
          "shell.execute_reply.started": "2024-01-20T16:58:05.269174Z",
          "shell.execute_reply": "2024-01-20T16:58:05.287631Z"
        },
        "trusted": true,
        "id": "XB6bJMNvVOLZ",
        "outputId": "7881080b-8194-46a3-e542-a822c6904835"
      },
      "execution_count": null,
      "outputs": [
        {
          "name": "stdout",
          "text": "<class 'pandas.core.frame.DataFrame'>\nRangeIndex: 219 entries, 0 to 218\nData columns (total 33 columns):\n #   Column                                   Non-Null Count  Dtype  \n---  ------                                   --------------  -----  \n 0   MRN                                      219 non-null    int64  \n 1   Age at diagnosis                         219 non-null    int64  \n 2   BMI                                      179 non-null    object \n 3   family.Hist_cancer                       208 non-null    object \n 4   Menopausal state                         218 non-null    object \n 5   Date of Diagnosis (PATHOLOGICAL REPORT)  210 non-null    object \n 6   T at Presentation                        194 non-null    object \n 7   N                                        189 non-null    object \n 8   M at Presentation                        212 non-null    object \n 9   Immuno Laterality                        214 non-null    object \n 10  ER                                       213 non-null    object \n 11  PR                                       210 non-null    object \n 12  HER2                                     207 non-null    object \n 13  KI67 (%)                                 28 non-null     float64\n 14  Molecular.subtype                        205 non-null    object \n 15  Unilateral/Bilateral                     219 non-null    object \n 16  Biopsy Laterality                        206 non-null    object \n 17  Tumor Type..BIOPSY                       200 non-null    object \n 18  Grade                                    188 non-null    object \n 19  Specimen Laterality                      211 non-null    object \n 20  Tumor Type from specimen                 201 non-null    object \n 21  Surgery Type                             209 non-null    object \n 22  Axilla Specimen Type                     125 non-null    object \n 23  Grade.1                                  186 non-null    object \n 24  Tumor Size (cm)                          167 non-null    object \n 25  Positive LN                              186 non-null    float64\n 26  Total LN Dissected                       183 non-null    float64\n 27  First Regimen Type                       219 non-null    object \n 28  Local/Distant (updated)                  219 non-null    object \n 29  Unnamed: 29                              191 non-null    object \n 30  survival.duration                        203 non-null    float64\n 31  Diseasefree.survival.DURAION2            205 non-null    float64\n 32  Radiotherapy                             175 non-null    object \ndtypes: float64(5), int64(2), object(26)\nmemory usage: 56.6+ KB\n",
          "output_type": "stream"
        }
      ]
    },
    {
      "cell_type": "code",
      "source": [
        "columns = ['Menopausal state','T at Presentation','N',\n",
        "           'Grade','Tumor Type from specimen ','ER', 'PR', 'HER2','Specimen Laterality', 'Unnamed: 29',\n",
        "           'survival.duration','Diseasefree.survival.DURAION2','Local/Distant (updated)']\n",
        "\n",
        "missing_counts = Baheya[columns].isnull().sum()\n",
        "missing_columns = missing_counts[missing_counts > 0].index.tolist()\n",
        "\n",
        "print(\"Columns with missing values:\")\n",
        "for column in missing_columns:\n",
        "    print(f\"{column}: {missing_counts[column]} missing values\")"
      ],
      "metadata": {
        "execution": {
          "iopub.status.busy": "2024-01-20T16:58:06.292430Z",
          "iopub.execute_input": "2024-01-20T16:58:06.292913Z",
          "iopub.status.idle": "2024-01-20T16:58:06.306625Z",
          "shell.execute_reply.started": "2024-01-20T16:58:06.292876Z",
          "shell.execute_reply": "2024-01-20T16:58:06.305647Z"
        },
        "trusted": true,
        "id": "38qnWodiVOLZ",
        "outputId": "4c726bfc-f39b-4f93-b00f-a2cfd099ad6a"
      },
      "execution_count": null,
      "outputs": [
        {
          "name": "stdout",
          "text": "Columns with missing values:\nMenopausal state: 1 missing values\nT at Presentation: 25 missing values\nN: 30 missing values\nGrade: 31 missing values\nTumor Type from specimen : 18 missing values\nER: 6 missing values\nPR: 9 missing values\nHER2: 12 missing values\nSpecimen Laterality: 8 missing values\nUnnamed: 29: 28 missing values\nsurvival.duration: 16 missing values\nDiseasefree.survival.DURAION2: 14 missing values\n",
          "output_type": "stream"
        }
      ]
    },
    {
      "cell_type": "code",
      "source": [
        "# Select only the specified columns from the DataFrame\n",
        "selected_data = Baheya[columns]\n",
        "\n",
        "# Create a bar plot for missing values in the selected columns\n",
        "fig = plt.figure(figsize=(12, 8))\n",
        "sns.barplot(x=selected_data.isnull().sum().sort_values(ascending=False).values,\n",
        "            y=selected_data.isnull().sum().sort_values(ascending=False).index,\n",
        "            palette='Blues_d')\n",
        "\n",
        "plt.xlabel('Number of Missing Rows', size=12, labelpad=10)\n",
        "plt.ylabel('')\n",
        "plt.tick_params(axis='x', labelsize=10)\n",
        "plt.tick_params(axis='y', labelsize=10)\n",
        "plt.title('Missing Values in Selected Columns', size=12, pad=10)\n",
        "\n",
        "plt.show()\n"
      ],
      "metadata": {
        "execution": {
          "iopub.status.busy": "2024-01-20T16:58:07.572732Z",
          "iopub.execute_input": "2024-01-20T16:58:07.573323Z",
          "iopub.status.idle": "2024-01-20T16:58:08.089489Z",
          "shell.execute_reply.started": "2024-01-20T16:58:07.573287Z",
          "shell.execute_reply": "2024-01-20T16:58:08.087342Z"
        },
        "trusted": true,
        "id": "kcNt4ymWVOLa",
        "outputId": "9e377f15-ae12-473c-80fb-98c65d494cd4"
      },
      "execution_count": null,
      "outputs": [
        {
          "output_type": "display_data",
          "data": {
            "text/plain": "<Figure size 864x576 with 1 Axes>",
            "image/png": "[encoded data removed]"
          },
          "metadata": {
            "image/png": {
              "width": 854,
              "height": 513
            }
          }
        }
      ]
    },
    {
      "cell_type": "code",
      "source": [
        "# Assuming you have a DataFrame named 'Baheya'\n",
        "unique_values = Baheya['T at Presentation'].unique()\n",
        "\n",
        "# Print the unique values\n",
        "print(unique_values)"
      ],
      "metadata": {
        "execution": {
          "iopub.status.busy": "2024-01-20T16:58:08.615390Z",
          "iopub.execute_input": "2024-01-20T16:58:08.615850Z",
          "iopub.status.idle": "2024-01-20T16:58:08.622765Z",
          "shell.execute_reply.started": "2024-01-20T16:58:08.615813Z",
          "shell.execute_reply": "2024-01-20T16:58:08.621289Z"
        },
        "trusted": true,
        "id": "rgAR4XRSVOLa",
        "outputId": "0f66291b-7d90-4896-d9a1-a5f164738390"
      },
      "execution_count": null,
      "outputs": [
        {
          "name": "stdout",
          "text": "['T3' 'T2' 'T4' 'Tis' 'T1' 'Tx' nan 'High']\n",
          "output_type": "stream"
        }
      ]
    },
    {
      "cell_type": "code",
      "source": [
        "value_counts = Baheya['T at Presentation'].value_counts()\n",
        "\n",
        "# Print the count of each unique value\n",
        "print(value_counts)"
      ],
      "metadata": {
        "execution": {
          "iopub.status.busy": "2024-01-20T16:58:09.531800Z",
          "iopub.execute_input": "2024-01-20T16:58:09.532369Z",
          "iopub.status.idle": "2024-01-20T16:58:09.541245Z",
          "shell.execute_reply.started": "2024-01-20T16:58:09.532332Z",
          "shell.execute_reply": "2024-01-20T16:58:09.539758Z"
        },
        "trusted": true,
        "id": "8-5dV5dmVOLb",
        "outputId": "70f00be5-c578-44d2-cb8a-822d5e2aefb0"
      },
      "execution_count": null,
      "outputs": [
        {
          "name": "stdout",
          "text": "T2      63\nT4      55\nT3      37\nT1      27\nTis      7\nTx       4\nHigh     1\nName: T at Presentation, dtype: int64\n",
          "output_type": "stream"
        }
      ]
    },
    {
      "cell_type": "code",
      "source": [
        "def update_tumor_size(value):\n",
        "    if value == 'Tis':\n",
        "        return 0\n",
        "    elif value == 'T1':\n",
        "        return 1\n",
        "    elif value == 'T2':\n",
        "        return 2\n",
        "    elif value == 'T3':\n",
        "        return 3\n",
        "    elif value == 'T4':\n",
        "        return 4\n",
        "    elif value == 'Tx':\n",
        "        return -1\n",
        "    elif value == 'High':\n",
        "        return 4\n",
        "    else:\n",
        "        return None\n",
        "\n",
        "Baheya['T at Presentation'] = Baheya['T at Presentation'].apply(update_tumor_size)\n"
      ],
      "metadata": {
        "execution": {
          "iopub.status.busy": "2024-01-20T16:58:10.268567Z",
          "iopub.execute_input": "2024-01-20T16:58:10.269016Z",
          "iopub.status.idle": "2024-01-20T16:58:10.280122Z",
          "shell.execute_reply.started": "2024-01-20T16:58:10.268980Z",
          "shell.execute_reply": "2024-01-20T16:58:10.278951Z"
        },
        "trusted": true,
        "id": "1jogKFuhVOLc"
      },
      "execution_count": null,
      "outputs": []
    },
    {
      "cell_type": "code",
      "source": [
        "Baheya['T at Presentation'] = Baheya.groupby(['Tumor Type from specimen '])['T at Presentation'].apply(lambda x: x.fillna(x.median()))\n",
        "Baheya['T at Presentation'] = Baheya['T at Presentation'].fillna(mode(Baheya['T at Presentation'])[0][0])"
      ],
      "metadata": {
        "execution": {
          "iopub.status.busy": "2024-01-20T16:58:11.205313Z",
          "iopub.execute_input": "2024-01-20T16:58:11.205840Z",
          "iopub.status.idle": "2024-01-20T16:58:11.230378Z",
          "shell.execute_reply.started": "2024-01-20T16:58:11.205798Z",
          "shell.execute_reply": "2024-01-20T16:58:11.228954Z"
        },
        "trusted": true,
        "id": "acYveQl0VOLc"
      },
      "execution_count": null,
      "outputs": []
    },
    {
      "cell_type": "code",
      "source": [
        "columns = ['Menopausal state','T at Presentation','N',\n",
        "           'Grade','Tumor Type from specimen ','ER', 'PR', 'HER2','Specimen Laterality', 'Unnamed: 29',\n",
        "           'survival.duration','Diseasefree.survival.DURAION2','Local/Distant (updated)']\n",
        "\n",
        "missing_counts = Baheya[columns].isnull().sum()\n",
        "missing_columns = missing_counts[missing_counts > 0].index.tolist()\n",
        "\n",
        "print(\"Columns with missing values:\")\n",
        "for column in missing_columns:\n",
        "    print(f\"{column}: {missing_counts[column]} missing values\")"
      ],
      "metadata": {
        "execution": {
          "iopub.status.busy": "2024-01-20T16:58:12.401117Z",
          "iopub.execute_input": "2024-01-20T16:58:12.401534Z",
          "iopub.status.idle": "2024-01-20T16:58:12.415382Z",
          "shell.execute_reply.started": "2024-01-20T16:58:12.401498Z",
          "shell.execute_reply": "2024-01-20T16:58:12.413866Z"
        },
        "trusted": true,
        "id": "zSOWJdO1VOLc",
        "outputId": "7ab38a20-47e3-4043-d201-a774fbfd519c"
      },
      "execution_count": null,
      "outputs": [
        {
          "name": "stdout",
          "text": "Columns with missing values:\nMenopausal state: 1 missing values\nN: 30 missing values\nGrade: 31 missing values\nTumor Type from specimen : 18 missing values\nER: 6 missing values\nPR: 9 missing values\nHER2: 12 missing values\nSpecimen Laterality: 8 missing values\nUnnamed: 29: 28 missing values\nsurvival.duration: 16 missing values\nDiseasefree.survival.DURAION2: 14 missing values\n",
          "output_type": "stream"
        }
      ]
    },
    {
      "cell_type": "code",
      "source": [
        "unique_values = Baheya['N'].unique()\n",
        "\n",
        "# Print the unique values\n",
        "print(unique_values)"
      ],
      "metadata": {
        "execution": {
          "iopub.status.busy": "2024-01-20T16:58:13.416052Z",
          "iopub.execute_input": "2024-01-20T16:58:13.416507Z",
          "iopub.status.idle": "2024-01-20T16:58:13.423859Z",
          "shell.execute_reply.started": "2024-01-20T16:58:13.416468Z",
          "shell.execute_reply": "2024-01-20T16:58:13.422694Z"
        },
        "trusted": true,
        "id": "bB6Y0f2QVOLd",
        "outputId": "b5a9f851-b5c2-4e5e-cb87-d63c37b795c3"
      },
      "execution_count": null,
      "outputs": [
        {
          "name": "stdout",
          "text": "['N3' 'N2' 'Nx' 'N1' 'N0' nan]\n",
          "output_type": "stream"
        }
      ]
    },
    {
      "cell_type": "code",
      "source": [
        "value_counts = Baheya['N'].value_counts()\n",
        "\n",
        "# Print the count of each unique value\n",
        "print(value_counts)"
      ],
      "metadata": {
        "execution": {
          "iopub.status.busy": "2024-01-20T16:58:14.860184Z",
          "iopub.execute_input": "2024-01-20T16:58:14.860671Z",
          "iopub.status.idle": "2024-01-20T16:58:14.869337Z",
          "shell.execute_reply.started": "2024-01-20T16:58:14.860633Z",
          "shell.execute_reply": "2024-01-20T16:58:14.868129Z"
        },
        "trusted": true,
        "id": "bfxjgE0cVOLd",
        "outputId": "fffa1469-9ce9-4a31-909e-8bb88d7f650f"
      },
      "execution_count": null,
      "outputs": [
        {
          "name": "stdout",
          "text": "N1    65\nN0    61\nN3    28\nN2    26\nNx     9\nName: N, dtype: int64\n",
          "output_type": "stream"
        }
      ]
    },
    {
      "cell_type": "code",
      "source": [
        "def update_lymph_node(value):\n",
        "    if value == 'Nx':\n",
        "        return -1\n",
        "    elif value == 'N0':\n",
        "        return 0\n",
        "    elif value == 'N1':\n",
        "        return 1\n",
        "    elif value == 'N2':\n",
        "        return 2\n",
        "    elif value == 'N3':\n",
        "        return 3\n",
        "    else:\n",
        "        return None\n",
        "\n",
        "Baheya['N'] = Baheya['N'].apply(update_lymph_node)\n"
      ],
      "metadata": {
        "execution": {
          "iopub.status.busy": "2024-01-20T16:58:15.912957Z",
          "iopub.execute_input": "2024-01-20T16:58:15.913391Z",
          "iopub.status.idle": "2024-01-20T16:58:15.923133Z",
          "shell.execute_reply.started": "2024-01-20T16:58:15.913356Z",
          "shell.execute_reply": "2024-01-20T16:58:15.921779Z"
        },
        "trusted": true,
        "id": "k7J-JhdxVOLd"
      },
      "execution_count": null,
      "outputs": []
    },
    {
      "cell_type": "code",
      "source": [
        "Baheya['N'] = Baheya.groupby(['Tumor Type from specimen '])['N'].apply(lambda x: x.fillna(x.mode()))\n",
        "Baheya['N'] = Baheya['N'].fillna(mode(Baheya['N'])[0][0])"
      ],
      "metadata": {
        "execution": {
          "iopub.status.busy": "2024-01-20T16:58:17.118941Z",
          "iopub.execute_input": "2024-01-20T16:58:17.119344Z",
          "iopub.status.idle": "2024-01-20T16:58:17.155796Z",
          "shell.execute_reply.started": "2024-01-20T16:58:17.119311Z",
          "shell.execute_reply": "2024-01-20T16:58:17.154844Z"
        },
        "trusted": true,
        "id": "Ciq_b5RhVOLd"
      },
      "execution_count": null,
      "outputs": []
    },
    {
      "cell_type": "code",
      "source": [
        "columns = ['Menopausal state','T at Presentation','N',\n",
        "           'Grade','Tumor Type from specimen ','ER', 'PR', 'HER2','Specimen Laterality', 'Unnamed: 29',\n",
        "           'survival.duration','Diseasefree.survival.DURAION2','Local/Distant (updated)']\n",
        "\n",
        "missing_counts = Baheya[columns].isnull().sum()\n",
        "missing_columns = missing_counts[missing_counts > 0].index.tolist()\n",
        "\n",
        "print(\"Columns with missing values:\")\n",
        "for column in missing_columns:\n",
        "    print(f\"{column}: {missing_counts[column]} missing values\")"
      ],
      "metadata": {
        "execution": {
          "iopub.status.busy": "2024-01-20T16:59:44.503961Z",
          "iopub.execute_input": "2024-01-20T16:59:44.504412Z",
          "iopub.status.idle": "2024-01-20T16:59:44.519842Z",
          "shell.execute_reply.started": "2024-01-20T16:59:44.504376Z",
          "shell.execute_reply": "2024-01-20T16:59:44.518520Z"
        },
        "trusted": true,
        "id": "iglZ6jvzVOLe",
        "outputId": "accb482f-8cf7-421f-cd11-82fa84e7d03e"
      },
      "execution_count": null,
      "outputs": [
        {
          "name": "stdout",
          "text": "Columns with missing values:\nTumor Type from specimen : 18 missing values\nPR: 9 missing values\nHER2: 12 missing values\nSpecimen Laterality: 8 missing values\nUnnamed: 29: 28 missing values\nsurvival.duration: 16 missing values\nDiseasefree.survival.DURAION2: 14 missing values\n",
          "output_type": "stream"
        }
      ]
    },
    {
      "cell_type": "code",
      "source": [
        "unique_values = Baheya['Menopausal state'].unique()\n",
        "\n",
        "# Print the unique values\n",
        "print(unique_values)"
      ],
      "metadata": {
        "execution": {
          "iopub.status.busy": "2024-01-20T16:58:20.388706Z",
          "iopub.execute_input": "2024-01-20T16:58:20.389094Z",
          "iopub.status.idle": "2024-01-20T16:58:20.397291Z",
          "shell.execute_reply.started": "2024-01-20T16:58:20.389060Z",
          "shell.execute_reply": "2024-01-20T16:58:20.395842Z"
        },
        "trusted": true,
        "id": "9d-wcS1SVOLe",
        "outputId": "a394f0f9-cd3d-4214-cf8e-e6e63f2613e4"
      },
      "execution_count": null,
      "outputs": [
        {
          "name": "stdout",
          "text": "['Pre-M' 'Post-M' 'Unrecorded' nan]\n",
          "output_type": "stream"
        }
      ]
    },
    {
      "cell_type": "code",
      "source": [
        "value_counts = Baheya['Menopausal state'].value_counts()\n",
        "\n",
        "# Print the count of each unique value\n",
        "print(value_counts)"
      ],
      "metadata": {
        "execution": {
          "iopub.status.busy": "2024-01-20T16:58:21.429518Z",
          "iopub.execute_input": "2024-01-20T16:58:21.429984Z",
          "iopub.status.idle": "2024-01-20T16:58:21.438506Z",
          "shell.execute_reply.started": "2024-01-20T16:58:21.429943Z",
          "shell.execute_reply": "2024-01-20T16:58:21.437515Z"
        },
        "trusted": true,
        "id": "xjVmwHqZVOLe",
        "outputId": "956006de-baae-49d2-ae1e-9077e5b89f17"
      },
      "execution_count": null,
      "outputs": [
        {
          "name": "stdout",
          "text": "Post-M        109\nPre-M         100\nUnrecorded      9\nName: Menopausal state, dtype: int64\n",
          "output_type": "stream"
        }
      ]
    },
    {
      "cell_type": "code",
      "source": [
        "import numpy as np\n",
        "Baheya['Menopausal state'] = Baheya['Menopausal state'].replace('Unrecorded', np.nan)\n"
      ],
      "metadata": {
        "execution": {
          "iopub.status.busy": "2024-01-20T16:58:22.220966Z",
          "iopub.execute_input": "2024-01-20T16:58:22.221701Z",
          "iopub.status.idle": "2024-01-20T16:58:22.228604Z",
          "shell.execute_reply.started": "2024-01-20T16:58:22.221661Z",
          "shell.execute_reply": "2024-01-20T16:58:22.227500Z"
        },
        "trusted": true,
        "id": "-st6BjZzVOLe"
      },
      "execution_count": null,
      "outputs": []
    },
    {
      "cell_type": "code",
      "source": [
        "Baheya['Menopausal state'] = Baheya['Menopausal state'].fillna(mode(Baheya['Menopausal state'])[0][0])"
      ],
      "metadata": {
        "execution": {
          "iopub.status.busy": "2024-01-20T16:58:24.658522Z",
          "iopub.execute_input": "2024-01-20T16:58:24.658936Z",
          "iopub.status.idle": "2024-01-20T16:58:24.666111Z",
          "shell.execute_reply.started": "2024-01-20T16:58:24.658902Z",
          "shell.execute_reply": "2024-01-20T16:58:24.664897Z"
        },
        "trusted": true,
        "id": "qyOxQ0bVVOLf"
      },
      "execution_count": null,
      "outputs": []
    },
    {
      "cell_type": "code",
      "source": [
        "unique_values = Baheya['Grade'].unique()\n",
        "\n",
        "# Print the unique values\n",
        "print(unique_values)"
      ],
      "metadata": {
        "execution": {
          "iopub.status.busy": "2024-01-20T16:58:26.695983Z",
          "iopub.execute_input": "2024-01-20T16:58:26.696389Z",
          "iopub.status.idle": "2024-01-20T16:58:26.703591Z",
          "shell.execute_reply.started": "2024-01-20T16:58:26.696351Z",
          "shell.execute_reply": "2024-01-20T16:58:26.702129Z"
        },
        "trusted": true,
        "id": "PEYHW--zVOLf",
        "outputId": "ca906d41-4d51-4ca8-fdc4-c6969e321a6f"
      },
      "execution_count": null,
      "outputs": [
        {
          "name": "stdout",
          "text": "[2 3 nan 'High' 1 'high' 'low' 'Intermediate']\n",
          "output_type": "stream"
        }
      ]
    },
    {
      "cell_type": "code",
      "source": [
        "value_counts = Baheya['Grade'].value_counts()\n",
        "\n",
        "# Print the count of each unique value\n",
        "print(value_counts)"
      ],
      "metadata": {
        "execution": {
          "iopub.status.busy": "2024-01-20T16:58:27.842928Z",
          "iopub.execute_input": "2024-01-20T16:58:27.843366Z",
          "iopub.status.idle": "2024-01-20T16:58:27.853215Z",
          "shell.execute_reply.started": "2024-01-20T16:58:27.843332Z",
          "shell.execute_reply": "2024-01-20T16:58:27.851769Z"
        },
        "trusted": true,
        "id": "drZrocI8VOLf",
        "outputId": "49f12abc-ea2d-41c5-a7e1-efeea3dc5880"
      },
      "execution_count": null,
      "outputs": [
        {
          "name": "stdout",
          "text": "2               107\n3                64\n1                 6\nHigh              5\nIntermediate      4\nhigh              1\nlow               1\nName: Grade, dtype: int64\n",
          "output_type": "stream"
        }
      ]
    },
    {
      "cell_type": "code",
      "source": [
        "def update_Grade(value):\n",
        "    if value == 'High' or value == 'high' or value == 3:\n",
        "        return 3\n",
        "    elif value == 'Intermediate' or value == 2:\n",
        "        return 2\n",
        "    elif value == 'low' or value == 1:\n",
        "        return 1\n",
        "    else:\n",
        "        return None\n",
        "\n",
        "Baheya['Grade'] = Baheya['Grade'].apply(update_Grade)\n"
      ],
      "metadata": {
        "execution": {
          "iopub.status.busy": "2024-01-20T16:58:28.830563Z",
          "iopub.execute_input": "2024-01-20T16:58:28.830934Z",
          "iopub.status.idle": "2024-01-20T16:58:28.839670Z",
          "shell.execute_reply.started": "2024-01-20T16:58:28.830903Z",
          "shell.execute_reply": "2024-01-20T16:58:28.838763Z"
        },
        "trusted": true,
        "id": "4OgymeVUVOLf"
      },
      "execution_count": null,
      "outputs": []
    },
    {
      "cell_type": "code",
      "source": [
        "Baheya['Grade'] = Baheya.groupby(['Tumor Type from specimen '])['Grade'].apply(lambda x: x.fillna(x.mode()))\n",
        "Baheya['Grade'] = Baheya['Grade'].fillna(mode(Baheya['Grade'])[0][0])"
      ],
      "metadata": {
        "execution": {
          "iopub.status.busy": "2024-01-20T16:58:29.853394Z",
          "iopub.execute_input": "2024-01-20T16:58:29.853973Z",
          "iopub.status.idle": "2024-01-20T16:58:29.886610Z",
          "shell.execute_reply.started": "2024-01-20T16:58:29.853936Z",
          "shell.execute_reply": "2024-01-20T16:58:29.885280Z"
        },
        "trusted": true,
        "id": "2qFOFne8VOLg"
      },
      "execution_count": null,
      "outputs": []
    },
    {
      "cell_type": "code",
      "source": [
        "unique_values = Baheya['PR'].unique()\n",
        "\n",
        "# Print the unique values\n",
        "print(unique_values)"
      ],
      "metadata": {
        "trusted": true,
        "id": "3HV_RaVrVOLg"
      },
      "execution_count": null,
      "outputs": []
    },
    {
      "cell_type": "code",
      "source": [
        "value_counts = Baheya['PR'].value_counts()\n",
        "\n",
        "# Print the count of each unique value\n",
        "print(value_counts)"
      ],
      "metadata": {
        "execution": {
          "iopub.status.busy": "2024-01-20T17:00:16.786416Z",
          "iopub.execute_input": "2024-01-20T17:00:16.786894Z",
          "iopub.status.idle": "2024-01-20T17:00:16.795935Z",
          "shell.execute_reply.started": "2024-01-20T17:00:16.786857Z",
          "shell.execute_reply": "2024-01-20T17:00:16.795012Z"
        },
        "trusted": true,
        "id": "sr1ZWElzVOLg",
        "outputId": "3b07b922-3661-4a1e-f150-106d523b366c"
      },
      "execution_count": null,
      "outputs": [
        {
          "name": "stdout",
          "text": "Positive      154\nNegative       54\nUnrecorded      1\nNrgative        1\nName: PR, dtype: int64\n",
          "output_type": "stream"
        }
      ]
    },
    {
      "cell_type": "code",
      "source": [
        "import numpy as np\n",
        "Baheya['PR'] = Baheya['PR'].replace('Unrecorded', np.nan)"
      ],
      "metadata": {
        "trusted": true,
        "id": "j2Q5VG3nVOLg"
      },
      "execution_count": null,
      "outputs": []
    },
    {
      "cell_type": "code",
      "source": [
        "def update_PR(value):\n",
        "    if value == 'Nrgative' or value == 'Negative':\n",
        "        return 'Negative'\n",
        "    elif value == 'Positive':\n",
        "        return 'Positive'\n",
        "    else:\n",
        "        return None\n",
        "\n",
        "Baheya['Grade'] = Baheya['Grade'].apply(update_Grade)\n"
      ],
      "metadata": {
        "execution": {
          "iopub.status.busy": "2024-01-20T16:58:33.083843Z",
          "iopub.execute_input": "2024-01-20T16:58:33.084480Z",
          "iopub.status.idle": "2024-01-20T16:58:33.093383Z",
          "shell.execute_reply.started": "2024-01-20T16:58:33.084420Z",
          "shell.execute_reply": "2024-01-20T16:58:33.092321Z"
        },
        "trusted": true,
        "id": "kVrRNlY6VOLg"
      },
      "execution_count": null,
      "outputs": []
    },
    {
      "cell_type": "code",
      "source": [
        "Baheya['ER'] = Baheya['ER'].fillna(Baheya['ER'].mode()[0])"
      ],
      "metadata": {
        "execution": {
          "iopub.status.busy": "2024-01-20T16:59:28.122951Z",
          "iopub.execute_input": "2024-01-20T16:59:28.123454Z",
          "iopub.status.idle": "2024-01-20T16:59:28.131754Z",
          "shell.execute_reply.started": "2024-01-20T16:59:28.123395Z",
          "shell.execute_reply": "2024-01-20T16:59:28.130410Z"
        },
        "trusted": true,
        "id": "ArglFqepVOLh"
      },
      "execution_count": null,
      "outputs": []
    },
    {
      "cell_type": "code",
      "source": [],
      "metadata": {
        "id": "AzMGflQeVOLh"
      },
      "execution_count": null,
      "outputs": []
    }
  ]
}